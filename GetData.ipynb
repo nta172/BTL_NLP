{
 "cells": [
  {
   "cell_type": "markdown",
   "metadata": {},
   "source": [
    "1. Thu thập các đường dẫn thuộc mỗi chuyên mục từ trang web https://vnexpress.net/"
   ]
  },
  {
   "cell_type": "markdown",
   "metadata": {},
   "source": [
    "- Viết hàm lấy tất cả các đường dẫn của bài báo trong trang web"
   ]
  },
  {
   "cell_type": "code",
   "execution_count": 18,
   "metadata": {},
   "outputs": [],
   "source": [
    "# Gọi thư viện\n",
    "from urllib.request import urlopen \n",
    "from bs4 import BeautifulSoup\n",
    "import re\n",
    "\n",
    "# Đường dẫn đến trang web gốc:\n",
    "URL = 'https://vnexpress.net/'\n",
    "\n",
    "def _get_links(url):\n",
    "    links = [] \n",
    "    html = urlopen(url).read()  \n",
    "    soup = BeautifulSoup(html, 'html.parser') \n",
    "\n",
    "    # Lấy tất cả đường dẫn trong trang web hiện tại\n",
    "    urls = set(re.findall(r'https://vnexpress.net/[^\\s\"]+\\.html', str(soup)))  \n",
    "\n",
    "    for url in urls:\n",
    "        # Chỉ lấy đường dẫn là trang web nhiều bài báo\n",
    "        if url != URL and url.startswith(URL) and not url.startswith(URL + '/tac-gia'): \n",
    "            links.append(url)\n",
    "\n",
    "    return links\n"
   ]
  },
  {
   "cell_type": "markdown",
   "metadata": {},
   "source": [
    "- Kết quả trả về của hàm với đường dẫn gốc của VNexpress"
   ]
  },
  {
   "cell_type": "code",
   "execution_count": 19,
   "metadata": {},
   "outputs": [
    {
     "data": {
      "text/plain": [
       "['https://vnexpress.net/asean-han-quoc-thiet-lap-quan-he-doi-tac-chien-luoc-toan-dien-4802580.html',\n",
       " 'https://vnexpress.net/dong-thap-cong-bo-tinh-huong-khan-cap-sat-lo-song-tien-4802467.html',\n",
       " 'https://vnexpress.net/vi-sao-tang-truong-gdp-quy-iii-vuot-moi-du-bao-4802280.html',\n",
       " 'https://vnexpress.net/70-nam-doi-thay-cua-thu-do-ha-noi-4802219.html',\n",
       " 'https://vnexpress.net/tien-ve-ha-noi-loi-tien-tri-chien-thang-4802095.html',\n",
       " 'https://vnexpress.net/cuoc-chien-chinh-tri-trump-harris-giua-mua-mua-bao-4802293.html',\n",
       " 'https://vnexpress.net/nha-van-han-kang-cua-han-quoc-doat-nobel-van-hoc-2024-4802635.html',\n",
       " 'https://vnexpress.net/bao-milton-do-bo-florida-suc-gio-193-km-h-4802278-tong-thuat.html',\n",
       " 'https://vnexpress.net/tac-gia/dang-hung-vo-1124.html',\n",
       " 'https://vnexpress.net/vang-mieng-sjc-ve-duoi-85-trieu-4802396.html',\n",
       " 'https://vnexpress.net/bitexco-noi-gi-ve-hon-15-700-ty-dong-nhan-tu-ba-truong-my-lan-4802455.html',\n",
       " 'https://vnexpress.net/dau-tri-truoc-ca-ghep-dong-thoi-tim-gan-dau-tien-o-viet-nam-4802319.html',\n",
       " 'https://vnexpress.net/gia-xang-moi-nhat-hom-nay-10-10-4802475.html',\n",
       " 'https://vnexpress.net/danh-thu-hong-son-tinh-yeu-cua-vo-la-dieu-quy-gia-voi-toi-4802314.html',\n",
       " 'https://vnexpress.net/hai-nu-sinh-tu-vong-duoi-banh-xe-bon-o-cua-ngo-tp-hcm-4802596.html',\n",
       " 'https://vnexpress.net/ban-truot-ten-lua-iskander-to-hop-patriot-ukraine-tra-gia-dat-4802376.html',\n",
       " 'https://vnexpress.net/nguoi-dung-da-co-the-dang-ky-goi-cuoc-5g-4802448.html',\n",
       " 'https://vnexpress.net/5-hoc-sinh-o-tp-hcm-nhap-vien-nghi-ngo-doc-sau-an-tai-truong-4802650.html',\n",
       " 'https://vnexpress.net/nguoi-phu-nu-nguy-kich-boi-nhiem-khuan-an-thit-nguoi-4802369.html',\n",
       " 'https://vnexpress.net/nadal-thong-bao-giai-nghe-4802640.html',\n",
       " 'https://vnexpress.net/ly-do-nguyen-hoang-duc-xuong-da-hang-nhat-4802486.html',\n",
       " 'https://vnexpress.net/dien-mao-cao-toc-ben-luc-doan-qua-tp-hcm-sap-thong-xe-4802256.html',\n",
       " 'https://vnexpress.net/tp-hcm-se-xay-tuong-dai-nam-bo-khang-chien-o-cong-vien-23-9-4802645.html',\n",
       " 'https://vnexpress.net/ha-noi-tang-gia-ve-xe-buyt-4802553.html',\n",
       " 'https://vnexpress.net/nghi-vien-chau-au-chia-re-vi-phat-bieu-cua-thu-tuong-hungary-4802377.html',\n",
       " 'https://vnexpress.net/ha-noi-vi-sao-xa-la-nho-4802248.html',\n",
       " 'https://vnexpress.net/bat-dong-noi-bo-co-the-can-tro-israel-tra-dua-iran-4802287.html']"
      ]
     },
     "execution_count": 19,
     "metadata": {},
     "output_type": "execute_result"
    }
   ],
   "source": [
    "_get_links(URL)"
   ]
  },
  {
   "cell_type": "markdown",
   "metadata": {},
   "source": [
    "- Lấy đường dẫn của các bài toán thuộc từng chuyên mục"
   ]
  },
  {
   "cell_type": "code",
   "execution_count": null,
   "metadata": {},
   "outputs": [],
   "source": [
    "# Danh sách các chuyên mục\n",
    "categories = [\n",
    "    'thoi-su', 'kinh-doanh', 'khoa-hoc', 'giai-tri',\n",
    "    'the-thao', 'phap-luat', 'giao-duc', 'suc-khoe',\n",
    "    'doi-song', 'du-lich', 'so-hoa', 'xe'\n",
    "]\n",
    "\n",
    "# Danh sách các đường dẫn đến các bài báo của mỗi chuyên mục\n",
    "article_url = {}\n",
    "\n",
    "for category in categories:\n",
    "    article_url[category] = []\n",
    "\n",
    "    # Lấy 5 trang trong mỗi chuyên mục\n",
    "    for i in range(1, 6):\n",
    "        url = '{}/{}-p{}'.format(URL, category, str(i))\n",
    "        article_url[category] += _get_links(url)\n",
    "\n",
    "    # Loại bỏ đường dẫn trùng nhau\n",
    "    article_url[category] = list(set(article_url[category]))\n",
    "\n",
    "    # Hiển thị số đường dẫn thu thập được trong chuyên mục\n",
    "    print(category, len(article_url[category]))\n",
    "\n",
    "# Lấy riêng các đường dẫn trong chuyên mục theo góc nhìn từng mục con\n",
    "goc_nhin = [\n",
    "    'binh-luan-nhieu', 'chinh-tri-chinh-sach', 'y-te-su-khoe',\n",
    "    'kinh-doanh-quan-tri', 'giao-duc-tri-thuc', 'moi-truong',\n",
    "    'van-hoa-loi-song', 'covid-19'\n",
    "]\n",
    "\n",
    "article_url['goc-nhin'] = []\n",
    "\n",
    "for sub_cate in goc_nhin:\n",
    "    url = '{}/{}/{}'.format(URL, 'goc-nhin', sub_cate)\n",
    "    article_url['goc-nhin'] += _get_links(url)\n",
    "\n",
    "# Loại bỏ đường dẫn trùng nhau trong chuyên mục 'goc-nhin'\n",
    "article_url['goc-nhin'] = list(set(article_url['goc-nhin']))\n",
    "print('goc-nhin', len(article_url['goc-nhin']))"
   ]
  }
 ],
 "metadata": {
  "kernelspec": {
   "display_name": "base",
   "language": "python",
   "name": "python3"
  },
  "language_info": {
   "codemirror_mode": {
    "name": "ipython",
    "version": 3
   },
   "file_extension": ".py",
   "mimetype": "text/x-python",
   "name": "python",
   "nbconvert_exporter": "python",
   "pygments_lexer": "ipython3",
   "version": "3.12.4"
  }
 },
 "nbformat": 4,
 "nbformat_minor": 4
}
