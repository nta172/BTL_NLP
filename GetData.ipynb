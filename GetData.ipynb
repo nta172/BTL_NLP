{
 "cells": [
  {
   "cell_type": "markdown",
   "metadata": {},
   "source": [
    "1. Thu thập các đường dẫn thuộc mỗi chuyên mục từ trang web https://vnexpress.net/"
   ]
  },
  {
   "cell_type": "markdown",
   "metadata": {},
   "source": [
    "- Viết hàm lấy tất cả các đường dẫn của bài báo trong trang web"
   ]
  },
  {
   "cell_type": "code",
   "execution_count": 1,
   "metadata": {},
   "outputs": [],
   "source": [
    "# Gọi thư viện\n",
    "from urllib.request import urlopen \n",
    "from bs4 import BeautifulSoup\n",
    "import re\n",
    "\n",
    "# Đường dẫn đến trang web gốc:\n",
    "URL = 'https://vnexpress.net/'\n",
    "\n",
    "def _get_links(url):\n",
    "    links = [] \n",
    "    html = urlopen(url).read()  \n",
    "    soup = BeautifulSoup(html, 'html.parser') \n",
    "\n",
    "    # Lấy tất cả đường dẫn trong trang web hiện tại\n",
    "    urls = set(re.findall(r'https://vnexpress.net/[^\\s\"]+\\.html', str(soup)))  \n",
    "\n",
    "    for url in urls:\n",
    "        # Chỉ lấy đường dẫn là trang web nhiều bài báo\n",
    "        if url != URL and url.startswith(URL) and not url.startswith(URL + '/tac-gia'): \n",
    "            links.append(url)\n",
    "\n",
    "    return links\n"
   ]
  },
  {
   "cell_type": "markdown",
   "metadata": {},
   "source": [
    "- Kết quả trả về của hàm với đường dẫn gốc của VNexpress"
   ]
  },
  {
   "cell_type": "code",
   "execution_count": 2,
   "metadata": {},
   "outputs": [
    {
     "data": {
      "text/plain": [
       "['https://vnexpress.net/dai-gia-la-quang-binh-bi-cao-buoc-hoi-lo-sep-ngan-hang-bang-co-phieu-4804265.html',\n",
       " 'https://vnexpress.net/khoanh-khac-phao-nhiet-ap-nga-thieu-dot-cu-diem-ukraine-4804354.html',\n",
       " 'https://vnexpress.net/con-sot-han-kang-chua-ha-nhiet-4804336.html',\n",
       " 'https://vnexpress.net/starship-ten-lua-manh-nhat-co-the-thay-doi-ca-nganh-vu-tru-4804307.html',\n",
       " 'https://vnexpress.net/ong-trump-dan-truoc-ba-harris-trong-bo-phieu-som-o-cac-bang-chien-truong-4804365.html',\n",
       " 'https://vnexpress.net/trieu-tien-noi-co-bang-chung-han-quoc-dieu-drone-vao-binh-nhuong-4804397.html',\n",
       " 'https://vnexpress.net/hon-150-may-bay-trung-quoc-tap-tran-quanh-dao-dai-loan-4804293.html',\n",
       " 'https://vnexpress.net/duong-sat-nao-cho-hang-4803920.html',\n",
       " 'https://vnexpress.net/thanh-vu-ve-thu-bay-giai-ultra-triathlon-dai-nhat-the-gioi-4804447.html',\n",
       " 'https://vnexpress.net/chung-khoan-hom-nay-15-10-co-phieu-chung-khoan-gay-ap-luc-cho-thi-truong-4804426.html',\n",
       " 'https://vnexpress.net/nguoi-dan-do-nha-giao-dat-lam-duong-nguyen-tuan-4804320.html',\n",
       " 'https://vnexpress.net/can-thu-ke-lai-32-gio-troi-dat-tren-bien-4804514.html',\n",
       " 'https://vnexpress.net/no-lo-hoi-lam-sap-tuong-5-can-nha-o-tp-hcm-4804560.html',\n",
       " 'https://vnexpress.net/indonesia-thua-trung-quoc-o-vong-loai-world-cup-2026-4804574.html',\n",
       " 'https://vnexpress.net/ipad-mini-7-trinh-lang-toi-uu-cho-apple-intelligence-4804567.html',\n",
       " 'https://vnexpress.net/man-utd-cat-hop-dong-dai-su-voi-sir-alex-ferguson-4804449.html',\n",
       " 'https://vnexpress.net/hai-pho-chu-tich-huyen-o-thanh-hoa-bi-bat-4804509.html',\n",
       " 'https://vnexpress.net/tac-gia/tran-nguyen-1803.html',\n",
       " 'https://vnexpress.net/ten-lua-manh-nhat-the-gioi-starship-co-gi-dac-biet-4804521.html',\n",
       " 'https://vnexpress.net/hanh-trinh-dan-than-vao-chinh-tri-cua-elon-musk-4803736.html',\n",
       " 'https://vnexpress.net/ly-do-joker-2-tham-bai-4803802.html',\n",
       " 'https://vnexpress.net/mang-5g-chinh-thuc-trien-khai-tai-viet-nam-4804333.html',\n",
       " 'https://vnexpress.net/han-quoc-noi-trieu-tien-cho-no-nhieu-doan-duong-bien-gioi-4804263.html',\n",
       " 'https://vnexpress.net/tp-hcm-keu-goi-dau-tu-23-du-an-linh-vuc-van-hoa-the-thao-4804384.html',\n",
       " 'https://vnexpress.net/de-nghi-lam-ro-muc-dau-tu-hon-67-ty-usd-duong-sat-toc-do-cao-bac-nam-4804562.html',\n",
       " 'https://vnexpress.net/unifil-luc-luong-gin-giu-hoa-binh-giua-lan-dan-israel-4804178.html',\n",
       " 'https://vnexpress.net/hon-tram-canh-sat-dot-kich-sao-huyet-danh-bac-truc-tuyen-4804497.html']"
      ]
     },
     "execution_count": 2,
     "metadata": {},
     "output_type": "execute_result"
    }
   ],
   "source": [
    "_get_links(URL)"
   ]
  },
  {
   "cell_type": "markdown",
   "metadata": {},
   "source": [
    "- Lấy đường dẫn của các bài toán thuộc từng chuyên mục"
   ]
  },
  {
   "cell_type": "code",
   "execution_count": 3,
   "metadata": {},
   "outputs": [
    {
     "name": "stdout",
     "output_type": "stream",
     "text": [
      "thoi-su 27\n",
      "kinh-doanh 27\n",
      "khoa-hoc 27\n",
      "giai-tri 27\n",
      "the-thao 27\n",
      "phap-luat 27\n",
      "giao-duc 27\n"
     ]
    },
    {
     "ename": "URLError",
     "evalue": "<urlopen error [WinError 10060] A connection attempt failed because the connected party did not properly respond after a period of time, or established connection failed because connected host has failed to respond>",
     "output_type": "error",
     "traceback": [
      "\u001b[1;31m---------------------------------------------------------------------------\u001b[0m",
      "\u001b[1;31mTimeoutError\u001b[0m                              Traceback (most recent call last)",
      "File \u001b[1;32mc:\\Users\\ADMIN\\anaconda3\\Lib\\urllib\\request.py:1344\u001b[0m, in \u001b[0;36mAbstractHTTPHandler.do_open\u001b[1;34m(self, http_class, req, **http_conn_args)\u001b[0m\n\u001b[0;32m   1343\u001b[0m \u001b[38;5;28;01mtry\u001b[39;00m:\n\u001b[1;32m-> 1344\u001b[0m     \u001b[43mh\u001b[49m\u001b[38;5;241;43m.\u001b[39;49m\u001b[43mrequest\u001b[49m\u001b[43m(\u001b[49m\u001b[43mreq\u001b[49m\u001b[38;5;241;43m.\u001b[39;49m\u001b[43mget_method\u001b[49m\u001b[43m(\u001b[49m\u001b[43m)\u001b[49m\u001b[43m,\u001b[49m\u001b[43m \u001b[49m\u001b[43mreq\u001b[49m\u001b[38;5;241;43m.\u001b[39;49m\u001b[43mselector\u001b[49m\u001b[43m,\u001b[49m\u001b[43m \u001b[49m\u001b[43mreq\u001b[49m\u001b[38;5;241;43m.\u001b[39;49m\u001b[43mdata\u001b[49m\u001b[43m,\u001b[49m\u001b[43m \u001b[49m\u001b[43mheaders\u001b[49m\u001b[43m,\u001b[49m\n\u001b[0;32m   1345\u001b[0m \u001b[43m              \u001b[49m\u001b[43mencode_chunked\u001b[49m\u001b[38;5;241;43m=\u001b[39;49m\u001b[43mreq\u001b[49m\u001b[38;5;241;43m.\u001b[39;49m\u001b[43mhas_header\u001b[49m\u001b[43m(\u001b[49m\u001b[38;5;124;43m'\u001b[39;49m\u001b[38;5;124;43mTransfer-encoding\u001b[39;49m\u001b[38;5;124;43m'\u001b[39;49m\u001b[43m)\u001b[49m\u001b[43m)\u001b[49m\n\u001b[0;32m   1346\u001b[0m \u001b[38;5;28;01mexcept\u001b[39;00m \u001b[38;5;167;01mOSError\u001b[39;00m \u001b[38;5;28;01mas\u001b[39;00m err: \u001b[38;5;66;03m# timeout error\u001b[39;00m\n",
      "File \u001b[1;32mc:\\Users\\ADMIN\\anaconda3\\Lib\\http\\client.py:1336\u001b[0m, in \u001b[0;36mHTTPConnection.request\u001b[1;34m(self, method, url, body, headers, encode_chunked)\u001b[0m\n\u001b[0;32m   1335\u001b[0m \u001b[38;5;250m\u001b[39m\u001b[38;5;124;03m\"\"\"Send a complete request to the server.\"\"\"\u001b[39;00m\n\u001b[1;32m-> 1336\u001b[0m \u001b[38;5;28;43mself\u001b[39;49m\u001b[38;5;241;43m.\u001b[39;49m\u001b[43m_send_request\u001b[49m\u001b[43m(\u001b[49m\u001b[43mmethod\u001b[49m\u001b[43m,\u001b[49m\u001b[43m \u001b[49m\u001b[43murl\u001b[49m\u001b[43m,\u001b[49m\u001b[43m \u001b[49m\u001b[43mbody\u001b[49m\u001b[43m,\u001b[49m\u001b[43m \u001b[49m\u001b[43mheaders\u001b[49m\u001b[43m,\u001b[49m\u001b[43m \u001b[49m\u001b[43mencode_chunked\u001b[49m\u001b[43m)\u001b[49m\n",
      "File \u001b[1;32mc:\\Users\\ADMIN\\anaconda3\\Lib\\http\\client.py:1382\u001b[0m, in \u001b[0;36mHTTPConnection._send_request\u001b[1;34m(self, method, url, body, headers, encode_chunked)\u001b[0m\n\u001b[0;32m   1381\u001b[0m     body \u001b[38;5;241m=\u001b[39m _encode(body, \u001b[38;5;124m'\u001b[39m\u001b[38;5;124mbody\u001b[39m\u001b[38;5;124m'\u001b[39m)\n\u001b[1;32m-> 1382\u001b[0m \u001b[38;5;28;43mself\u001b[39;49m\u001b[38;5;241;43m.\u001b[39;49m\u001b[43mendheaders\u001b[49m\u001b[43m(\u001b[49m\u001b[43mbody\u001b[49m\u001b[43m,\u001b[49m\u001b[43m \u001b[49m\u001b[43mencode_chunked\u001b[49m\u001b[38;5;241;43m=\u001b[39;49m\u001b[43mencode_chunked\u001b[49m\u001b[43m)\u001b[49m\n",
      "File \u001b[1;32mc:\\Users\\ADMIN\\anaconda3\\Lib\\http\\client.py:1331\u001b[0m, in \u001b[0;36mHTTPConnection.endheaders\u001b[1;34m(self, message_body, encode_chunked)\u001b[0m\n\u001b[0;32m   1330\u001b[0m     \u001b[38;5;28;01mraise\u001b[39;00m CannotSendHeader()\n\u001b[1;32m-> 1331\u001b[0m \u001b[38;5;28;43mself\u001b[39;49m\u001b[38;5;241;43m.\u001b[39;49m\u001b[43m_send_output\u001b[49m\u001b[43m(\u001b[49m\u001b[43mmessage_body\u001b[49m\u001b[43m,\u001b[49m\u001b[43m \u001b[49m\u001b[43mencode_chunked\u001b[49m\u001b[38;5;241;43m=\u001b[39;49m\u001b[43mencode_chunked\u001b[49m\u001b[43m)\u001b[49m\n",
      "File \u001b[1;32mc:\\Users\\ADMIN\\anaconda3\\Lib\\http\\client.py:1091\u001b[0m, in \u001b[0;36mHTTPConnection._send_output\u001b[1;34m(self, message_body, encode_chunked)\u001b[0m\n\u001b[0;32m   1090\u001b[0m \u001b[38;5;28;01mdel\u001b[39;00m \u001b[38;5;28mself\u001b[39m\u001b[38;5;241m.\u001b[39m_buffer[:]\n\u001b[1;32m-> 1091\u001b[0m \u001b[38;5;28;43mself\u001b[39;49m\u001b[38;5;241;43m.\u001b[39;49m\u001b[43msend\u001b[49m\u001b[43m(\u001b[49m\u001b[43mmsg\u001b[49m\u001b[43m)\u001b[49m\n\u001b[0;32m   1093\u001b[0m \u001b[38;5;28;01mif\u001b[39;00m message_body \u001b[38;5;129;01mis\u001b[39;00m \u001b[38;5;129;01mnot\u001b[39;00m \u001b[38;5;28;01mNone\u001b[39;00m:\n\u001b[0;32m   1094\u001b[0m \n\u001b[0;32m   1095\u001b[0m     \u001b[38;5;66;03m# create a consistent interface to message_body\u001b[39;00m\n",
      "File \u001b[1;32mc:\\Users\\ADMIN\\anaconda3\\Lib\\http\\client.py:1035\u001b[0m, in \u001b[0;36mHTTPConnection.send\u001b[1;34m(self, data)\u001b[0m\n\u001b[0;32m   1034\u001b[0m \u001b[38;5;28;01mif\u001b[39;00m \u001b[38;5;28mself\u001b[39m\u001b[38;5;241m.\u001b[39mauto_open:\n\u001b[1;32m-> 1035\u001b[0m     \u001b[38;5;28;43mself\u001b[39;49m\u001b[38;5;241;43m.\u001b[39;49m\u001b[43mconnect\u001b[49m\u001b[43m(\u001b[49m\u001b[43m)\u001b[49m\n\u001b[0;32m   1036\u001b[0m \u001b[38;5;28;01melse\u001b[39;00m:\n",
      "File \u001b[1;32mc:\\Users\\ADMIN\\anaconda3\\Lib\\http\\client.py:1470\u001b[0m, in \u001b[0;36mHTTPSConnection.connect\u001b[1;34m(self)\u001b[0m\n\u001b[0;32m   1468\u001b[0m \u001b[38;5;124m\"\u001b[39m\u001b[38;5;124mConnect to a host on a given (SSL) port.\u001b[39m\u001b[38;5;124m\"\u001b[39m\n\u001b[1;32m-> 1470\u001b[0m \u001b[38;5;28;43msuper\u001b[39;49m\u001b[43m(\u001b[49m\u001b[43m)\u001b[49m\u001b[38;5;241;43m.\u001b[39;49m\u001b[43mconnect\u001b[49m\u001b[43m(\u001b[49m\u001b[43m)\u001b[49m\n\u001b[0;32m   1472\u001b[0m \u001b[38;5;28;01mif\u001b[39;00m \u001b[38;5;28mself\u001b[39m\u001b[38;5;241m.\u001b[39m_tunnel_host:\n",
      "File \u001b[1;32mc:\\Users\\ADMIN\\anaconda3\\Lib\\http\\client.py:1001\u001b[0m, in \u001b[0;36mHTTPConnection.connect\u001b[1;34m(self)\u001b[0m\n\u001b[0;32m   1000\u001b[0m sys\u001b[38;5;241m.\u001b[39maudit(\u001b[38;5;124m\"\u001b[39m\u001b[38;5;124mhttp.client.connect\u001b[39m\u001b[38;5;124m\"\u001b[39m, \u001b[38;5;28mself\u001b[39m, \u001b[38;5;28mself\u001b[39m\u001b[38;5;241m.\u001b[39mhost, \u001b[38;5;28mself\u001b[39m\u001b[38;5;241m.\u001b[39mport)\n\u001b[1;32m-> 1001\u001b[0m \u001b[38;5;28mself\u001b[39m\u001b[38;5;241m.\u001b[39msock \u001b[38;5;241m=\u001b[39m \u001b[38;5;28;43mself\u001b[39;49m\u001b[38;5;241;43m.\u001b[39;49m\u001b[43m_create_connection\u001b[49m\u001b[43m(\u001b[49m\n\u001b[0;32m   1002\u001b[0m \u001b[43m    \u001b[49m\u001b[43m(\u001b[49m\u001b[38;5;28;43mself\u001b[39;49m\u001b[38;5;241;43m.\u001b[39;49m\u001b[43mhost\u001b[49m\u001b[43m,\u001b[49m\u001b[38;5;28;43mself\u001b[39;49m\u001b[38;5;241;43m.\u001b[39;49m\u001b[43mport\u001b[49m\u001b[43m)\u001b[49m\u001b[43m,\u001b[49m\u001b[43m \u001b[49m\u001b[38;5;28;43mself\u001b[39;49m\u001b[38;5;241;43m.\u001b[39;49m\u001b[43mtimeout\u001b[49m\u001b[43m,\u001b[49m\u001b[43m \u001b[49m\u001b[38;5;28;43mself\u001b[39;49m\u001b[38;5;241;43m.\u001b[39;49m\u001b[43msource_address\u001b[49m\u001b[43m)\u001b[49m\n\u001b[0;32m   1003\u001b[0m \u001b[38;5;66;03m# Might fail in OSs that don't implement TCP_NODELAY\u001b[39;00m\n",
      "File \u001b[1;32mc:\\Users\\ADMIN\\anaconda3\\Lib\\socket.py:853\u001b[0m, in \u001b[0;36mcreate_connection\u001b[1;34m(address, timeout, source_address, all_errors)\u001b[0m\n\u001b[0;32m    852\u001b[0m \u001b[38;5;28;01mif\u001b[39;00m \u001b[38;5;129;01mnot\u001b[39;00m all_errors:\n\u001b[1;32m--> 853\u001b[0m     \u001b[38;5;28;01mraise\u001b[39;00m exceptions[\u001b[38;5;241m0\u001b[39m]\n\u001b[0;32m    854\u001b[0m \u001b[38;5;28;01mraise\u001b[39;00m ExceptionGroup(\u001b[38;5;124m\"\u001b[39m\u001b[38;5;124mcreate_connection failed\u001b[39m\u001b[38;5;124m\"\u001b[39m, exceptions)\n",
      "File \u001b[1;32mc:\\Users\\ADMIN\\anaconda3\\Lib\\socket.py:838\u001b[0m, in \u001b[0;36mcreate_connection\u001b[1;34m(address, timeout, source_address, all_errors)\u001b[0m\n\u001b[0;32m    837\u001b[0m     sock\u001b[38;5;241m.\u001b[39mbind(source_address)\n\u001b[1;32m--> 838\u001b[0m \u001b[43msock\u001b[49m\u001b[38;5;241;43m.\u001b[39;49m\u001b[43mconnect\u001b[49m\u001b[43m(\u001b[49m\u001b[43msa\u001b[49m\u001b[43m)\u001b[49m\n\u001b[0;32m    839\u001b[0m \u001b[38;5;66;03m# Break explicitly a reference cycle\u001b[39;00m\n",
      "\u001b[1;31mTimeoutError\u001b[0m: [WinError 10060] A connection attempt failed because the connected party did not properly respond after a period of time, or established connection failed because connected host has failed to respond",
      "\nDuring handling of the above exception, another exception occurred:\n",
      "\u001b[1;31mURLError\u001b[0m                                  Traceback (most recent call last)",
      "Cell \u001b[1;32mIn[3], line 17\u001b[0m\n\u001b[0;32m     15\u001b[0m \u001b[38;5;28;01mfor\u001b[39;00m i \u001b[38;5;129;01min\u001b[39;00m \u001b[38;5;28mrange\u001b[39m(\u001b[38;5;241m1\u001b[39m, \u001b[38;5;241m3\u001b[39m):\n\u001b[0;32m     16\u001b[0m     url \u001b[38;5;241m=\u001b[39m \u001b[38;5;124m'\u001b[39m\u001b[38;5;132;01m{}\u001b[39;00m\u001b[38;5;124m/\u001b[39m\u001b[38;5;132;01m{}\u001b[39;00m\u001b[38;5;124m-p\u001b[39m\u001b[38;5;132;01m{}\u001b[39;00m\u001b[38;5;124m'\u001b[39m\u001b[38;5;241m.\u001b[39mformat(URL, category, \u001b[38;5;28mstr\u001b[39m(i))\n\u001b[1;32m---> 17\u001b[0m     article_url[category] \u001b[38;5;241m+\u001b[39m\u001b[38;5;241m=\u001b[39m \u001b[43m_get_links\u001b[49m\u001b[43m(\u001b[49m\u001b[43murl\u001b[49m\u001b[43m)\u001b[49m\n\u001b[0;32m     19\u001b[0m \u001b[38;5;66;03m# Loại bỏ đường dẫn trùng nhau\u001b[39;00m\n\u001b[0;32m     20\u001b[0m article_url[category] \u001b[38;5;241m=\u001b[39m \u001b[38;5;28mlist\u001b[39m(\u001b[38;5;28mset\u001b[39m(article_url[category]))\n",
      "Cell \u001b[1;32mIn[1], line 11\u001b[0m, in \u001b[0;36m_get_links\u001b[1;34m(url)\u001b[0m\n\u001b[0;32m      9\u001b[0m \u001b[38;5;28;01mdef\u001b[39;00m \u001b[38;5;21m_get_links\u001b[39m(url):\n\u001b[0;32m     10\u001b[0m     links \u001b[38;5;241m=\u001b[39m [] \n\u001b[1;32m---> 11\u001b[0m     html \u001b[38;5;241m=\u001b[39m \u001b[43murlopen\u001b[49m\u001b[43m(\u001b[49m\u001b[43murl\u001b[49m\u001b[43m)\u001b[49m\u001b[38;5;241m.\u001b[39mread()  \n\u001b[0;32m     12\u001b[0m     soup \u001b[38;5;241m=\u001b[39m BeautifulSoup(html, \u001b[38;5;124m'\u001b[39m\u001b[38;5;124mhtml.parser\u001b[39m\u001b[38;5;124m'\u001b[39m) \n\u001b[0;32m     14\u001b[0m     \u001b[38;5;66;03m# Lấy tất cả đường dẫn trong trang web hiện tại\u001b[39;00m\n",
      "File \u001b[1;32mc:\\Users\\ADMIN\\anaconda3\\Lib\\urllib\\request.py:215\u001b[0m, in \u001b[0;36murlopen\u001b[1;34m(url, data, timeout, cafile, capath, cadefault, context)\u001b[0m\n\u001b[0;32m    213\u001b[0m \u001b[38;5;28;01melse\u001b[39;00m:\n\u001b[0;32m    214\u001b[0m     opener \u001b[38;5;241m=\u001b[39m _opener\n\u001b[1;32m--> 215\u001b[0m \u001b[38;5;28;01mreturn\u001b[39;00m \u001b[43mopener\u001b[49m\u001b[38;5;241;43m.\u001b[39;49m\u001b[43mopen\u001b[49m\u001b[43m(\u001b[49m\u001b[43murl\u001b[49m\u001b[43m,\u001b[49m\u001b[43m \u001b[49m\u001b[43mdata\u001b[49m\u001b[43m,\u001b[49m\u001b[43m \u001b[49m\u001b[43mtimeout\u001b[49m\u001b[43m)\u001b[49m\n",
      "File \u001b[1;32mc:\\Users\\ADMIN\\anaconda3\\Lib\\urllib\\request.py:515\u001b[0m, in \u001b[0;36mOpenerDirector.open\u001b[1;34m(self, fullurl, data, timeout)\u001b[0m\n\u001b[0;32m    512\u001b[0m     req \u001b[38;5;241m=\u001b[39m meth(req)\n\u001b[0;32m    514\u001b[0m sys\u001b[38;5;241m.\u001b[39maudit(\u001b[38;5;124m'\u001b[39m\u001b[38;5;124murllib.Request\u001b[39m\u001b[38;5;124m'\u001b[39m, req\u001b[38;5;241m.\u001b[39mfull_url, req\u001b[38;5;241m.\u001b[39mdata, req\u001b[38;5;241m.\u001b[39mheaders, req\u001b[38;5;241m.\u001b[39mget_method())\n\u001b[1;32m--> 515\u001b[0m response \u001b[38;5;241m=\u001b[39m \u001b[38;5;28;43mself\u001b[39;49m\u001b[38;5;241;43m.\u001b[39;49m\u001b[43m_open\u001b[49m\u001b[43m(\u001b[49m\u001b[43mreq\u001b[49m\u001b[43m,\u001b[49m\u001b[43m \u001b[49m\u001b[43mdata\u001b[49m\u001b[43m)\u001b[49m\n\u001b[0;32m    517\u001b[0m \u001b[38;5;66;03m# post-process response\u001b[39;00m\n\u001b[0;32m    518\u001b[0m meth_name \u001b[38;5;241m=\u001b[39m protocol\u001b[38;5;241m+\u001b[39m\u001b[38;5;124m\"\u001b[39m\u001b[38;5;124m_response\u001b[39m\u001b[38;5;124m\"\u001b[39m\n",
      "File \u001b[1;32mc:\\Users\\ADMIN\\anaconda3\\Lib\\urllib\\request.py:532\u001b[0m, in \u001b[0;36mOpenerDirector._open\u001b[1;34m(self, req, data)\u001b[0m\n\u001b[0;32m    529\u001b[0m     \u001b[38;5;28;01mreturn\u001b[39;00m result\n\u001b[0;32m    531\u001b[0m protocol \u001b[38;5;241m=\u001b[39m req\u001b[38;5;241m.\u001b[39mtype\n\u001b[1;32m--> 532\u001b[0m result \u001b[38;5;241m=\u001b[39m \u001b[38;5;28;43mself\u001b[39;49m\u001b[38;5;241;43m.\u001b[39;49m\u001b[43m_call_chain\u001b[49m\u001b[43m(\u001b[49m\u001b[38;5;28;43mself\u001b[39;49m\u001b[38;5;241;43m.\u001b[39;49m\u001b[43mhandle_open\u001b[49m\u001b[43m,\u001b[49m\u001b[43m \u001b[49m\u001b[43mprotocol\u001b[49m\u001b[43m,\u001b[49m\u001b[43m \u001b[49m\u001b[43mprotocol\u001b[49m\u001b[43m \u001b[49m\u001b[38;5;241;43m+\u001b[39;49m\n\u001b[0;32m    533\u001b[0m \u001b[43m                          \u001b[49m\u001b[38;5;124;43m'\u001b[39;49m\u001b[38;5;124;43m_open\u001b[39;49m\u001b[38;5;124;43m'\u001b[39;49m\u001b[43m,\u001b[49m\u001b[43m \u001b[49m\u001b[43mreq\u001b[49m\u001b[43m)\u001b[49m\n\u001b[0;32m    534\u001b[0m \u001b[38;5;28;01mif\u001b[39;00m result:\n\u001b[0;32m    535\u001b[0m     \u001b[38;5;28;01mreturn\u001b[39;00m result\n",
      "File \u001b[1;32mc:\\Users\\ADMIN\\anaconda3\\Lib\\urllib\\request.py:492\u001b[0m, in \u001b[0;36mOpenerDirector._call_chain\u001b[1;34m(self, chain, kind, meth_name, *args)\u001b[0m\n\u001b[0;32m    490\u001b[0m \u001b[38;5;28;01mfor\u001b[39;00m handler \u001b[38;5;129;01min\u001b[39;00m handlers:\n\u001b[0;32m    491\u001b[0m     func \u001b[38;5;241m=\u001b[39m \u001b[38;5;28mgetattr\u001b[39m(handler, meth_name)\n\u001b[1;32m--> 492\u001b[0m     result \u001b[38;5;241m=\u001b[39m \u001b[43mfunc\u001b[49m\u001b[43m(\u001b[49m\u001b[38;5;241;43m*\u001b[39;49m\u001b[43margs\u001b[49m\u001b[43m)\u001b[49m\n\u001b[0;32m    493\u001b[0m     \u001b[38;5;28;01mif\u001b[39;00m result \u001b[38;5;129;01mis\u001b[39;00m \u001b[38;5;129;01mnot\u001b[39;00m \u001b[38;5;28;01mNone\u001b[39;00m:\n\u001b[0;32m    494\u001b[0m         \u001b[38;5;28;01mreturn\u001b[39;00m result\n",
      "File \u001b[1;32mc:\\Users\\ADMIN\\anaconda3\\Lib\\urllib\\request.py:1392\u001b[0m, in \u001b[0;36mHTTPSHandler.https_open\u001b[1;34m(self, req)\u001b[0m\n\u001b[0;32m   1391\u001b[0m \u001b[38;5;28;01mdef\u001b[39;00m \u001b[38;5;21mhttps_open\u001b[39m(\u001b[38;5;28mself\u001b[39m, req):\n\u001b[1;32m-> 1392\u001b[0m     \u001b[38;5;28;01mreturn\u001b[39;00m \u001b[38;5;28;43mself\u001b[39;49m\u001b[38;5;241;43m.\u001b[39;49m\u001b[43mdo_open\u001b[49m\u001b[43m(\u001b[49m\u001b[43mhttp\u001b[49m\u001b[38;5;241;43m.\u001b[39;49m\u001b[43mclient\u001b[49m\u001b[38;5;241;43m.\u001b[39;49m\u001b[43mHTTPSConnection\u001b[49m\u001b[43m,\u001b[49m\u001b[43m \u001b[49m\u001b[43mreq\u001b[49m\u001b[43m,\u001b[49m\n\u001b[0;32m   1393\u001b[0m \u001b[43m                        \u001b[49m\u001b[43mcontext\u001b[49m\u001b[38;5;241;43m=\u001b[39;49m\u001b[38;5;28;43mself\u001b[39;49m\u001b[38;5;241;43m.\u001b[39;49m\u001b[43m_context\u001b[49m\u001b[43m)\u001b[49m\n",
      "File \u001b[1;32mc:\\Users\\ADMIN\\anaconda3\\Lib\\urllib\\request.py:1347\u001b[0m, in \u001b[0;36mAbstractHTTPHandler.do_open\u001b[1;34m(self, http_class, req, **http_conn_args)\u001b[0m\n\u001b[0;32m   1344\u001b[0m         h\u001b[38;5;241m.\u001b[39mrequest(req\u001b[38;5;241m.\u001b[39mget_method(), req\u001b[38;5;241m.\u001b[39mselector, req\u001b[38;5;241m.\u001b[39mdata, headers,\n\u001b[0;32m   1345\u001b[0m                   encode_chunked\u001b[38;5;241m=\u001b[39mreq\u001b[38;5;241m.\u001b[39mhas_header(\u001b[38;5;124m'\u001b[39m\u001b[38;5;124mTransfer-encoding\u001b[39m\u001b[38;5;124m'\u001b[39m))\n\u001b[0;32m   1346\u001b[0m     \u001b[38;5;28;01mexcept\u001b[39;00m \u001b[38;5;167;01mOSError\u001b[39;00m \u001b[38;5;28;01mas\u001b[39;00m err: \u001b[38;5;66;03m# timeout error\u001b[39;00m\n\u001b[1;32m-> 1347\u001b[0m         \u001b[38;5;28;01mraise\u001b[39;00m URLError(err)\n\u001b[0;32m   1348\u001b[0m     r \u001b[38;5;241m=\u001b[39m h\u001b[38;5;241m.\u001b[39mgetresponse()\n\u001b[0;32m   1349\u001b[0m \u001b[38;5;28;01mexcept\u001b[39;00m:\n",
      "\u001b[1;31mURLError\u001b[0m: <urlopen error [WinError 10060] A connection attempt failed because the connected party did not properly respond after a period of time, or established connection failed because connected host has failed to respond>"
     ]
    }
   ],
   "source": [
    "# Danh sách các chuyên mục\n",
    "categories = [\n",
    "    'thoi-su', 'kinh-doanh', 'khoa-hoc', 'giai-tri',\n",
    "    'the-thao', 'phap-luat', 'giao-duc', 'suc-khoe',\n",
    "    'doi-song', 'du-lich', 'so-hoa', 'xe'\n",
    "]\n",
    "\n",
    "# Danh sách các đường dẫn đến các bài báo của mỗi chuyên mục\n",
    "article_url = {}\n",
    "\n",
    "for category in categories:\n",
    "    article_url[category] = []\n",
    "\n",
    "    # Lấy 5 trang trong mỗi chuyên mục\n",
    "    for i in range(1, 3):\n",
    "        url = '{}/{}-p{}'.format(URL, category, str(i))\n",
    "        article_url[category] += _get_links(url)\n",
    "\n",
    "    # Loại bỏ đường dẫn trùng nhau\n",
    "    article_url[category] = list(set(article_url[category]))\n",
    "\n",
    "    # Hiển thị số đường dẫn thu thập được trong chuyên mục\n",
    "    print(category, len(article_url[category]))\n",
    "\n"
   ]
  },
  {
   "cell_type": "code",
   "execution_count": 11,
   "metadata": {},
   "outputs": [
    {
     "name": "stdout",
     "output_type": "stream",
     "text": [
      "goc-nhin 27\n"
     ]
    }
   ],
   "source": [
    "# Lấy riêng các đường dẫn trong chuyên mục theo góc nhìn từng mục con\n",
    "goc_nhin = [\n",
    "    'binh-luan-nhieu', 'chinh-tri-chinh-sach', 'y-te-su-khoe',\n",
    "    'kinh-doanh-quan-tri', 'giao-duc-tri-thuc', 'moi-truong',\n",
    "    'van-hoa-loi-song', 'covid-19'\n",
    "]\n",
    "\n",
    "article_url['goc-nhin'] = []\n",
    "\n",
    "for sub_cate in goc_nhin:\n",
    "    url = '{}/{}/{}'.format(URL, 'goc-nhin', sub_cate)\n",
    "    article_url['goc-nhin'] += _get_links(url)\n",
    "\n",
    "# Loại bỏ đường dẫn trùng nhau trong chuyên mục 'goc-nhin'\n",
    "article_url['goc-nhin'] = list(set(article_url['goc-nhin']))\n",
    "print('goc-nhin', len(article_url['goc-nhin']))"
   ]
  },
  {
   "cell_type": "markdown",
   "metadata": {},
   "source": [
    "2. Lấy nội dung của bài báo ứng với từng đường dẫn cụ thể và lưu vào một file trong folder chuyên mục tương ứng."
   ]
  },
  {
   "cell_type": "markdown",
   "metadata": {},
   "source": [
    "- Viết hàm lấy nội dung của bài báo ứng với đường dẫn cụ thể"
   ]
  },
  {
   "cell_type": "code",
   "execution_count": 12,
   "metadata": {},
   "outputs": [],
   "source": [
    "def _get_content(url):\n",
    "    # Nội dung bài báo\n",
    "    content = ''\n",
    "    \n",
    "    # Mở URL và đọc nội dung trang\n",
    "    html = urlopen(url).read()\n",
    "    soup = BeautifulSoup(html, 'html.parser')\n",
    "\n",
    "    # Lấy phần chứa nội dung bài báo\n",
    "    div_content = soup.select('.page-detail .container')\n",
    "    if len(div_content) > 0:\n",
    "        div_content = div_content[0]\n",
    "\n",
    "        # Lấy phần mô tả\n",
    "        description = div_content.find_all('p', {'class': 'description'})\n",
    "        if len(description) > 0:\n",
    "            text_description = description[-1].get_text()\n",
    "            location = description[-1].find('span', {'class': 'location-stamp'})\n",
    "            if location is not None:\n",
    "                content = text_description[len(location.get_text()):]\n",
    "            else:\n",
    "                content = text_description   \n",
    "\n",
    "        # Lấy phần chứa nội dung chi tiết bài báo\n",
    "        detail = div_content.find('article', {'class': 'fck_detail'})\n",
    "        if detail is not None:\n",
    "            p_normal = detail.find_all('p', {'class': 'Normal'})\n",
    "            if len(p_normal) > 0:\n",
    "                for p in p_normal:\n",
    "                    p_text = p.get_text()\n",
    "                    # Kiểm tra đoạn văn bản không rỗng, không bắt đầu bằng dấu '>>' và kết thúc bằng các ký tự hợp lệ\n",
    "                    if p_text != '' and not p_text.startswith('>>') and p_text[-1] in ['.', '!', '?']:\n",
    "                        content += ' ' + p_text\n",
    "\n",
    "    # Xóa ký tự ngắt dòng và trả về\n",
    "    return re.sub(r'\\n', '', content)"
   ]
  },
  {
   "cell_type": "markdown",
   "metadata": {},
   "source": [
    "+ Kết quả trả về của hàm với đường dẫn dầu tiên trong chuyên mục số hóa"
   ]
  },
  {
   "cell_type": "code",
   "execution_count": 13,
   "metadata": {},
   "outputs": [
    {
     "data": {
      "text/plain": [
       "'Lã Quang Bình, Chủ tịch HĐQT Công ty ECPAY, bị cáo buộc chỉ đạo em gái hối lộ sếp ngân hàng 200.000 cổ phiếu để được tiếp tục giải ngân nhằm tháo gỡ khó khăn cho công ty. Ông Lã Quang Bình là Chủ tịch HĐQT của Công ty Cổ phần Giải pháp thanh toán Điện lực và Viễn thông (ECPAY), Đầu tư thương mại dịch vụ Điện lực (ECInvest), Tập đoàn LALUNA và khách sạn Bến Du Thuyền (Marina Hotel). Hồi tháng 9, ông Bình cùng em gái Lã Thị Phương Liên bị Cơ quan An ninh điều tra, Bộ Công an, đề nghị truy tố về hai tội Vi phạm quy định về hoạt động ngân hàng, hoạt động khác liên quan đến hoạt động ngân hàng và Đưa hối lộ. Trong vụ án này, Đào Hoàng Thắng (cựu Giám đốc Agribank chi nhánh quận Đống Đa) bị đề nghị truy tố tội Nhận hối lộ. Theo kết luận, từ 2005 đến 2016, ông Bình thành lập một số công ty hoạt động trong lĩnh vực công nghệ thông tin, máy vi tính. Các công ty của Bình làm đại lý trung gian thu hộ tiền điện theo hợp đồng đã ký với các công ty điện lực; dịch vụ trung gian thanh toán, kinh doanh bất động sản. Trong đó, Công ty Cổ phần Giải pháp thanh toán Điện lực và Viễn thông (Công ty ECPAY) đã ký hợp đồng cung cấp dịch vụ thu hộ tiền điện qua kênh thanh toán của Công ty ECPAY với Tổng Công ty Điện lực Miền Bắc, Tổng Công ty Điện lực thành phố Hà Nội, Tổng Công ty Điện lực Miền Trung, Tổng Công ty Điện lực TP HCM và Tổng Công ty Điện lực Miền Nam TNHH. Từ tháng 4/2016 đến tháng 12/2020, ông Bình sử dụng 8 công ty, lập hồ sơ vay tiền tại Agribank chi nhánh Đống Đa với mục đích thanh toán ứng trước tiền điện cho các công ty điện lực và đầu tư kinh doanh bất động sản. Từ 2018 đến 2020, các công ty của Bình được Agribank chi nhánh Đống Đa cấp hạn mức 100 tỷ đồng cho một công ty trong một năm. Trong đó 50% được bảo đảm bằng các hợp đồng tiền gửi, 50% vay tín chấp không tài sản bảo đảm. Giai đoạn này, nhóm các công ty của ông Bình đã sử dụng tiền điện thu được thanh toán đầy đủ, đúng hạn nợ gốc, lãi cho Agribank chi nhánh Đống Đa theo các hợp đồng tín dụng. Từ tháng 12/2020, do Tổng Công ty Điện lực miền Bắc đóng cổng thanh toán, yêu cầu Công ty ECPAY trả hết số tiền điện còn nợ khiến công ty của Bình mất nguồn thu để trả nợ các khoản vay đến hạn tại Agribank chi nhánh Đống Đa và có nguy cơ bị chuyển nợ xấu. Nhằm tháo gỡ khó khăn, Bình nhờ Đào Hoàng Thắng giúp đỡ giải ngân tiếp cho công ty song bị gây khó dễ, yêu cầu đưa tiền thì mới đồng ý cho giải ngân, kết luận điều tra nêu. Để có nguồn tiền trả nợ vay quá hạn tại ngân hàng, không để chuyển nợ xấu và trả nợ cho Tổng Công ty Điện lực miền Bắc, Bình giao em gái Lã Thị Phương Liên thỏa thuận với Thắng về việc sẽ chuyển 300.000 cổ phiếu của Công ty Cổ phần Đầu tư Thương mại - Dịch vụ Điện lực (mã chứng khoán là EIN), tương đương 3 tỷ đồng, cho Thắng. Đồng thời, Bình chỉ đạo Trần Ngọc Thắng (Phó tổng Giám đốc Công ty ECPAY) theo dõi, khi có tiền tín dụng (L/C) từ nước ngoài chuyển về thì chuyển tiếp cho Thắng 2 tỷ đồng. Theo chỉ đạo của Bình, chiều 22/1/2021, Liên đến phòng làm việc gặp Thắng để nhờ tạo điều kiện cho tiếp tục giải ngân. Đổi lại, Liên sẽ chuyển cho Thắng 200.000 cổ phiếu EIN. Cơ quan điều tra xác định bị can Thắng ngầm hiểu đây là tài sản đại gia Bình đưa để nhờ giúp đỡ giải ngân nên đồng ý và bảo Liên chuyển cổ phiếu vào tài khoản chứng khoán của em gái là Đào Hoàng Yến. \"Chốt\" tiền xong, Bình chỉ đạo cấp dưới làm việc với ngân hàng về phương án lập hồ sơ vay tiền. Từ thỏa thuận giữa hai bên, Liên chuyển 200.000 cổ phiếu EIN cho Thắng bằng cách vòng vo qua các cá nhân khác để xóa dấu vết. Hiện, 200.000 cổ phiếu này vẫn đang trong tài khoản chứng khoán của em gái Thắng. Sau khi nhận 200.000 cổ phiếu EIN, ngày 27/1/2021, Thắng chỉ đạo, giục Phạm Như Hà (cựu Phó giám đốc, Agribank chi nhánh Đống Đa) và Nguyễn Thành Nhân (cựu Trưởng phòng khách hàng doanh nghiệp) cho tất toán, rút tài sản đảm bảo của khoản vay 94 tỷ đồng của Công ty TNHH Kinh doanh và Thương mại Thịnh Phát trái quy định. Sau đó, Thắng tiếp tục chỉ đạo giải ngân trái quy định hai khoản vay mới 46 tỷ đồng và 33 tỷ đồng cho Công ty Thịnh Phát. Công ty Thịnh Phát đang còn khoản vay 47 tỷ đồng không có tài sản đảm bảo nhưng Thắng vẫn chỉ đạo để cho tiếp tục ký hợp đồng tín dụng hạn mức 46 tỷ đồng. Tài sản đảm bảo cho khoản vay này là quyền đòi nợ phát sinh từ hợp đồng thu hộ tiền điện được ký giữa Công ty ECPAY và Công ty Thịnh Phát. Ngày 28/1/2021, Agribank chi nhánh Đống Đa đã giải ngân 46 tỷ đồng cho Công ty Thịnh Phát. Tuy nhiên kết quả điều tra xác định, hợp đồng thu hộ tiền điện giữa Công ty ECPAY và Công ty Thịnh Phát không có giá trị pháp lý. Một tháng sau, Agribank Chi nhánh Đống Đa tiếp tục ký hợp đồng tín dụng, giải ngân trái pháp luật cho Công ty Thịnh Phát 33 tỷ đồng. Đến nay, các khoản vay trên đều tất toán nên Cơ quan An ninh điều tra Bộ Công an không có căn cứ xác định hậu quả thiệt hại cho Agribank chi nhánh Đống Đa. Trong vụ án này, ngoài bị can Bình, Liên, Thắng, Hoài Anh, 6 người khác của Agribank chi nhánh Đống Đa bị đề nghị truy tố tội Vi phạm quy định về hoạt động ngân hàng, hoạt động khác liên quan đến hoạt động ngân hàng, gồm: Phạm Như Hà (cựu Phó giám đốc), Nguyễn Thành Nhân (cựu Trưởng phòng khách hàng doanh nghiệp), Vương Thị Bích Ngọc và Nguyễn Đắc Hiếu (đều là cựu Phó phòng khách hàng doanh nghiệp), Đinh Hải Sơn (Trưởng phòng tổng hợp, thành viên Hội đồng tín dụng), Hồ Mai Hiền (cựu Trưởng phòng kiểm tra kiểm soát nội bộ, thành viên Hội đồng tín dụng). Nguyễn Thị Loan (Giám đốc Tài chính Công ty ECPAY) và Trần Đình Quốc cùng tội Vi phạm quy định về hoạt động ngân hàng, hoạt động khác liên quan đến hoạt động ngân hàng. Nguyễn Hoài Anh (Tổng giám đốc Công ty Cổ phần đầu tư kinh doanh Tín Việt) bị đề nghị truy tố tội Vi phạm quy định về hoạt động ngân hàng, hoạt động khác liên quan đến hoạt động ngân hàng và Cho vay lãi nặng trong giao dịch dân sự. Bốn bị can còn lại Nguyễn Hải Long, Nguyễn Văn Tuấn, Vũ Văn Khiêm và Phạm Quang Tạo bị đề nghị truy tố về tội Cho vay lãi nặng trong giao dịch dân sự.'"
      ]
     },
     "execution_count": 13,
     "metadata": {},
     "output_type": "execute_result"
    }
   ],
   "source": [
    "_get_content(article_url['giao-duc'][0])"
   ]
  },
  {
   "cell_type": "markdown",
   "metadata": {},
   "source": [
    "- Lưu nội dung các bài báo thành các file nằm trong folder chuyên mục tương ứng"
   ]
  },
  {
   "cell_type": "code",
   "execution_count": 16,
   "metadata": {},
   "outputs": [
    {
     "name": "stdout",
     "output_type": "stream",
     "text": [
      "thoi-su 1\n",
      "Tổng số câu được tách:  39\n",
      "thoi-su 2\n",
      "Tổng số câu được tách:  40\n",
      "thoi-su 3\n",
      "Tổng số câu được tách:  88\n",
      "thoi-su 4\n",
      "Tổng số câu được tách:  168\n",
      "thoi-su 5\n",
      "Tổng số câu được tách:  186\n",
      "thoi-su 6\n",
      "Tổng số câu được tách:  202\n",
      "thoi-su 7\n",
      "Tổng số câu được tách:  218\n",
      "thoi-su 8\n",
      "Tổng số câu được tách:  265\n",
      "thoi-su 9\n",
      "Tổng số câu được tách:  287\n",
      "thoi-su 10\n",
      "Tổng số câu được tách:  323\n",
      "thoi-su 11\n",
      "Tổng số câu được tách:  346\n",
      "thoi-su 12\n",
      "Tổng số câu được tách:  392\n",
      "thoi-su 13\n",
      "Tổng số câu được tách:  402\n",
      "thoi-su 14\n",
      "Tổng số câu được tách:  432\n",
      "thoi-su 15\n",
      "Tổng số câu được tách:  451\n",
      "thoi-su 16\n",
      "Tổng số câu được tách:  472\n",
      "thoi-su 17\n",
      "Tổng số câu được tách:  480\n",
      "thoi-su 17\n",
      "Tổng số câu được tách:  480\n",
      "thoi-su 18\n",
      "Tổng số câu được tách:  481\n",
      "thoi-su 19\n",
      "Tổng số câu được tách:  539\n",
      "thoi-su 20\n",
      "Tổng số câu được tách:  564\n",
      "thoi-su 21\n",
      "Tổng số câu được tách:  595\n",
      "thoi-su 22\n",
      "Tổng số câu được tách:  608\n",
      "thoi-su 23\n",
      "Tổng số câu được tách:  639\n",
      "thoi-su 24\n",
      "Tổng số câu được tách:  666\n",
      "thoi-su 25\n",
      "Tổng số câu được tách:  719\n",
      "thoi-su 26\n",
      "Tổng số câu được tách:  733\n"
     ]
    },
    {
     "ename": "FileExistsError",
     "evalue": "[WinError 183] Cannot create a file when that file already exists: 'data/categorieskinh-doanh/'",
     "output_type": "error",
     "traceback": [
      "\u001b[1;31m---------------------------------------------------------------------------\u001b[0m",
      "\u001b[1;31mFileExistsError\u001b[0m                           Traceback (most recent call last)",
      "Cell \u001b[1;32mIn[16], line 11\u001b[0m\n\u001b[0;32m      8\u001b[0m \u001b[38;5;28;01mfor\u001b[39;00m category \u001b[38;5;129;01min\u001b[39;00m article_url\u001b[38;5;241m.\u001b[39mkeys():\n\u001b[0;32m      9\u001b[0m     \u001b[38;5;66;03m# Tạo folder chuyên mục để chứa các file bài viết\u001b[39;00m\n\u001b[0;32m     10\u001b[0m     current_path \u001b[38;5;241m=\u001b[39m \u001b[38;5;124m'\u001b[39m\u001b[38;5;124mdata/categories\u001b[39m\u001b[38;5;124m'\u001b[39m \u001b[38;5;241m+\u001b[39m category \u001b[38;5;241m+\u001b[39m \u001b[38;5;124m'\u001b[39m\u001b[38;5;124m/\u001b[39m\u001b[38;5;124m'\u001b[39m\n\u001b[1;32m---> 11\u001b[0m     \u001b[43mos\u001b[49m\u001b[38;5;241;43m.\u001b[39;49m\u001b[43mmkdir\u001b[49m\u001b[43m(\u001b[49m\u001b[43mcurrent_path\u001b[49m\u001b[43m)\u001b[49m\n\u001b[0;32m     13\u001b[0m \u001b[38;5;66;03m# Lưu các bài viết thành từng file\u001b[39;00m\n\u001b[0;32m     14\u001b[0m     count \u001b[38;5;241m=\u001b[39m \u001b[38;5;241m0\u001b[39m\n",
      "\u001b[1;31mFileExistsError\u001b[0m: [WinError 183] Cannot create a file when that file already exists: 'data/categorieskinh-doanh/'"
     ]
    }
   ],
   "source": [
    "import os\n",
    "\n",
    "# Danh sách tất cả các câu đã làm sạch của tất cả các bài viết\n",
    "sentence = []\n",
    "#Chữ cái in hoa cảu tiếng việt\n",
    "uppercase = \"AĂÂBCDĐEÊGHIKLMNOÔƠPQRSTUƯVXY\"\n",
    "\n",
    "for category in article_url.keys():\n",
    "    # Tạo folder chuyên mục để chứa các file bài viết\n",
    "    current_path = 'data/categories' + category + '/'\n",
    "    os.mkdir(current_path)\n",
    "\n",
    "# Lưu các bài viết thành từng file\n",
    "    count = 0\n",
    "    for i in range(len(article_url[category])):\n",
    "        content = _get_content(article_url[category][i])\n",
    "        if content != '':\n",
    "            count += 1\n",
    "            f = open('{}/{}_{}.txt'.format(current_path, category, str(count)), 'w', encoding='utf-8') \n",
    "            # Chèn khoảng cách vào sau các dấu câu (., ?, !) nếu không có khoảng trắng hoặc dấu ngoặc kép ngay sau đó\n",
    "            lines = re.sub(r'(?<=[.?!])(?=[\\'\"{}])'.format(uppercase), ' ', content)\n",
    "\n",
    "            # Tách bài viết thành câu (giả sử câu kết thúc bằng ., !, ? và câu mới bắt đầu bằng chữ cái in hoa hoặc chữ số)\n",
    "            lines = re.split(r'(?<=[.?!])\\s*(?=[\\'\"{}0-9])'.format(uppercase), content)\n",
    "\n",
    "\n",
    "            # Ghi từng câu trong vào viết vào file\n",
    "            for line in lines:\n",
    "                f.write((line + '\\n'))\n",
    "                sentence.append(line)\n",
    "            f.close\n",
    "        # Sổ bài viết trong chuyên mục    \n",
    "        print(category, count)\n",
    "\n",
    "        sentence = list(set(sentence))\n",
    "        print(\"Tổng số câu được tách: \", len(sentence))"
   ]
  },
  {
   "cell_type": "markdown",
   "metadata": {},
   "source": [
    "+ 10 câu dầu tiên tách được"
   ]
  },
  {
   "cell_type": "code",
   "execution_count": 17,
   "metadata": {},
   "outputs": [
    {
     "data": {
      "text/plain": [
       "['Thủ tướng Israel Benjamin Nentayahu ngày 13/10 bày tỏ lấy làm tiếc trước việc một số lính giữ gìn hòa bình LHQ bị thương, đồng thời yêu cầu phái bộ rút lực lượng \"ngay lập tức\" để tránh tiếp tục phải đối mặt với tình thế \"nguy hiểm\".',\n",
       " 'Lã Quang Bình, Chủ tịch HĐQT Công ty ECPAY, bị cáo buộc chỉ đạo em gái hối lộ sếp ngân hàng 200.',\n",
       " 'Hass nhấn mạnh hành động của Musk trong những tuần tới có thể tác động đáng kể đến kết quả bầu cử và bối cảnh chính trị Mỹ trong tương lai.',\n",
       " 'Seoul cho biết Bình Nhưỡng đã kích nổ mìn phá hủy nhiều đoạn của tuyến đường xuyên biên giới bên phía Triều Tiên, khi căng thẳng hai nước gia tăng.',\n",
       " '000 mm) dẫn tới phải chuyển hàng sang đoàn tàu trên khổ tiêu chuẩn (1.',\n",
       " 'Lực lượng này cho biết các tòa nhà của LHQ ở làng Ramyah cũng đã hứng \"thiệt hại nghiêm trọng\" do những vụ nổ gần đó.',\n",
       " 'Ngoài nâng sức mạnh xử lý, iPad cỡ nhỏ của Apple cũng có điểm mới dành cho những người sáng tạo nội dung là hỗ trợ bút Pencil Pro.',\n",
       " 'Han Kang thắng giải Nobel Văn học 2024 nhờ các tác phẩm là \"những áng văn xuôi mạnh mẽ, đậm chất thơ, đề cập trực diện những chấn thương lịch sử và phơi bày sự mong manh của kiếp người\".',\n",
       " 'Dù bị suy sụp lúc đầu, tôi đã vượt qua và đạt thời gian chạy tốt nhất nhờ tình yêu và sự chăm sóc từ Tanya Piratay, Anthony Leigh và Brad Kelley - những người trong đội ngũ hỗ trợ của tôi\".',\n",
       " 'Ban đầu, ông chiêu mộ Giám đốc điều hành Omar Berrada từ Man City, Giám đốc tthể thao Dan Ashworth từ Newcastle và Giám đốc kỹ thuật Jason Wilcox từ Southampton.']"
      ]
     },
     "execution_count": 17,
     "metadata": {},
     "output_type": "execute_result"
    }
   ],
   "source": [
    "sentence[:10]"
   ]
  },
  {
   "cell_type": "markdown",
   "metadata": {},
   "source": [
    "<strong>3. Lưu tất cả các câu vào file ngữ liệu </strong>"
   ]
  },
  {
   "cell_type": "code",
   "execution_count": 18,
   "metadata": {},
   "outputs": [
    {
     "name": "stdout",
     "output_type": "stream",
     "text": [
      "Số lượng câu trong file ngữ liệu:  733\n"
     ]
    }
   ],
   "source": [
    "# File ngữ liệu\n",
    "file_corpus = open('data/corpus.txt', 'w', encoding='utf-8')\n",
    "\n",
    "count = 0\n",
    "for sent in sentence:\n",
    "    # Xóa ký tự thừa\n",
    "    sent = re.sub(r'\\u200b', '', sent)\n",
    "\n",
    "    file_corpus.write(sent.strip() + '\\n')\n",
    "    count +=1\n",
    "file_corpus.close()\n",
    "\n",
    "print('Số lượng câu trong file ngữ liệu: ', count)"
   ]
  },
  {
   "cell_type": "code",
   "execution_count": null,
   "metadata": {},
   "outputs": [],
   "source": []
  }
 ],
 "metadata": {
  "kernelspec": {
   "display_name": "base",
   "language": "python",
   "name": "python3"
  },
  "language_info": {
   "codemirror_mode": {
    "name": "ipython",
    "version": 3
   },
   "file_extension": ".py",
   "mimetype": "text/x-python",
   "name": "python",
   "nbconvert_exporter": "python",
   "pygments_lexer": "ipython3",
   "version": "3.12.4"
  }
 },
 "nbformat": 4,
 "nbformat_minor": 4
}
