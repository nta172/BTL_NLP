{
 "cells": [
  {
   "cell_type": "markdown",
   "metadata": {},
   "source": [
    "1. Thu thập các đường dẫn thuộc mỗi chuyên mục từ trang web https://vnexpress.net/"
   ]
  },
  {
   "cell_type": "markdown",
   "metadata": {},
   "source": [
    "- Viết hàm lấy tất cả các đường dẫn của bài báo trong trang web"
   ]
  },
  {
   "cell_type": "code",
   "execution_count": 1,
   "metadata": {},
   "outputs": [],
   "source": [
    "# Gọi thư viện\n",
    "from urllib.request import urlopen \n",
    "from bs4 import BeautifulSoup\n",
    "import re\n",
    "\n",
    "# Đường dẫn đến trang web gốc:\n",
    "URL = 'https://vnexpress.net/'\n",
    "\n",
    "def _get_links(url):\n",
    "    links = [] \n",
    "    html = urlopen(url).read()  \n",
    "    soup = BeautifulSoup(html, 'html.parser') \n",
    "\n",
    "    # Lấy tất cả đường dẫn trong trang web hiện tại\n",
    "    urls = set(re.findall(r'https://vnexpress.net/[^\\s\"]+\\.html', str(soup)))  \n",
    "\n",
    "    for url in urls:\n",
    "        # Chỉ lấy đường dẫn là trang web nhiều bài báo\n",
    "        if url != URL and url.startswith(URL) and not url.startswith(URL + '/tac-gia'): \n",
    "            links.append(url)\n",
    "\n",
    "    return links\n"
   ]
  },
  {
   "cell_type": "markdown",
   "metadata": {},
   "source": [
    "- Kết quả trả về của hàm với đường dẫn gốc của VNexpress"
   ]
  },
  {
   "cell_type": "code",
   "execution_count": 2,
   "metadata": {},
   "outputs": [
    {
     "data": {
      "text/plain": [
       "['https://vnexpress.net/mo-phong-canh-bao-nuoc-bien-dang-do-bao-milton-o-florida-4802146.html',\n",
       " 'https://vnexpress.net/dai-hoc-nao-gia-re-4801809.html',\n",
       " 'https://vnexpress.net/tai-xe-tao-va-cham-giao-thong-de-thoat-khoi-ten-cuop-4802101.html',\n",
       " 'https://vnexpress.net/sieu-bao-milton-co-the-de-doa-florida-the-nao-4801891.html',\n",
       " 'https://vnexpress.net/cuu-giam-doc-benh-vien-thu-duc-duoc-giam-3-nam-tu-4802174.html',\n",
       " 'https://vnexpress.net/chung-khoan-noi-dai-sac-xanh-4802171.html',\n",
       " 'https://vnexpress.net/cuu-pho-tong-giam-doc-scb-bi-cao-phai-tra-gia-qua-dat-4802024.html',\n",
       " 'https://vnexpress.net/nguoi-viet-nam-dau-tien-duoc-dong-thoi-ghep-tim-gan-4802126.html',\n",
       " 'https://vnexpress.net/nobel-hoa-hoc-2024-vinh-danh-nghien-cuu-ve-protein-4802160.html',\n",
       " 'https://vnexpress.net/khoanh-khac-uav-nga-tap-kich-loat-phao-trieu-usd-cua-ukraine-4802078.html',\n",
       " 'https://vnexpress.net/nguoi-xung-dai-duc-thich-tam-phuc-chap-nhan-8-nam-tu-4802041.html',\n",
       " 'https://vnexpress.net/noi-kho-cua-nguoi-florida-khi-so-tan-truoc-sieu-bao-milton-4801887.html',\n",
       " 'https://vnexpress.net/asean-can-cung-co-lap-truong-chung-ve-bien-dong-4802185.html',\n",
       " 'https://vnexpress.net/thu-khoa-thi-lop-10-bi-giam-15-diem-sau-thanh-tra-phai-thoi-hoc-4802033.html',\n",
       " 'https://vnexpress.net/cong-an-ly-giai-bo-quy-dinh-ghi-am-ghi-hinh-giam-sat-canh-sat-giao-thong-4802224.html',\n",
       " 'https://vnexpress.net/duy-manh-toi-hoi-han-da-xam-hinh-4800952.html',\n",
       " 'https://vnexpress.net/tai-sao-bao-milton-manh-len-than-toc-4802011.html',\n",
       " 'https://vnexpress.net/tac-gia/david-pickus-1858.html',\n",
       " 'https://vnexpress.net/se-nghien-cuu-muc-no-thue-voi-tung-doi-tuong-bi-cam-xuat-canh-4802066.html',\n",
       " 'https://vnexpress.net/uy-ban-kinh-te-cua-quoc-hoi-nguoi-dan-kho-mua-nha-vi-gia-qua-cao-4801914.html',\n",
       " 'https://vnexpress.net/lang-dao-nhat-tan-trong-hoa-cuc-su-hao-de-ban-tet-4800943.html',\n",
       " 'https://vnexpress.net/tp-hcm-phat-hanh-trai-phieu-lam-metro-nen-tinh-lai-theo-thi-truong-4801753.html',\n",
       " 'https://vnexpress.net/co-truong-dot-tu-giua-chuyen-bay-4802209.html',\n",
       " 'https://vnexpress.net/tau-chien-may-bay-my-noi-duoi-so-tan-tranh-bao-milton-4801932.html',\n",
       " 'https://vnexpress.net/chuyen-bay-xuyen-tam-bao-milton-4802009.html',\n",
       " 'https://vnexpress.net/de-xuat-giai-quyet-luong-huu-cho-chu-ho-kinh-doanh-bi-thu-bao-hiem-trai-luat-4802123.html',\n",
       " 'https://vnexpress.net/ong-trump-bo-xa-ba-harris-o-bang-florida-texas-4801858.html']"
      ]
     },
     "execution_count": 2,
     "metadata": {},
     "output_type": "execute_result"
    }
   ],
   "source": [
    "_get_links(URL)"
   ]
  },
  {
   "cell_type": "markdown",
   "metadata": {},
   "source": [
    "- Lấy đường dẫn của các bài toán thuộc từng chuyên mục"
   ]
  }
 ],
 "metadata": {
  "kernelspec": {
   "display_name": "base",
   "language": "python",
   "name": "python3"
  },
  "language_info": {
   "codemirror_mode": {
    "name": "ipython",
    "version": 3
   },
   "file_extension": ".py",
   "mimetype": "text/x-python",
   "name": "python",
   "nbconvert_exporter": "python",
   "pygments_lexer": "ipython3",
   "version": "3.12.4"
  }
 },
 "nbformat": 4,
 "nbformat_minor": 2
}
