{
 "cells": [
  {
   "cell_type": "markdown",
   "metadata": {},
   "source": [
    "<strong>1. Load mô hình và các thư viện cần dùng</strong>"
   ]
  },
  {
   "cell_type": "code",
   "execution_count": 1,
   "metadata": {},
   "outputs": [
    {
     "name": "stderr",
     "output_type": "stream",
     "text": [
      "WARNING:absl:Compiled the loaded model, but the compiled metrics have yet to be built. `model.compile_metrics` will be empty until you train or evaluate the model.\n"
     ]
    }
   ],
   "source": [
    "from collections import Counter\n",
    "from keras.models import load_model\n",
    "import nltk\n",
    "import numpy as np\n",
    "import re\n",
    "\n",
    "model = load_model(\"model_0.9966.h5\")\n",
    "\n",
    "NGRAM = 5\n",
    "MAXLEN = 39\n",
    "\n",
    "# Các ký tự có thể xuất hiện trong encoder\n",
    "alphabet = ['\\x00', ' '] + list('0123456789aàáảãạăằắẳẵặâầấẩẫậeèéẻẽẹêềếểễệiìíỉĩịoòóỏõọôồốổỗộơờớởỡợuùúủũụưừứửữựyỳýỷỹỵAÀÁẢÃẠĂẰẮẲẴẶÂẦẤẨẪẬEÈÉẺẼẸÊỀẾỂỄỆIÌÍỈĨỊOÒÓỎÕỌÔỒỐỔỖỘƠỜỚỞỠỢUÙÚỦŨỤƯỪỨỬỮỰYỲÝỶỸỴ') + list('bcdfghjklmnpqrstvwxzBCDFGHJKLMNPQRSTVWXZdĐ')"
   ]
  },
  {
   "cell_type": "markdown",
   "metadata": {},
   "source": [
    "<strong>2. Hàm encoder và decoder tương ứng với mô hình đã huấn luyện</strong>"
   ]
  },
  {
   "cell_type": "code",
   "execution_count": 2,
   "metadata": {},
   "outputs": [],
   "source": [
    "# Đệm '\\x00' vào cuối của các cụm ngrams có độ dài < độ dài tối đa là 39\n",
    "def _encoder_data(text):\n",
    "    x = np.zeros((MAXLEN, len(alphabet)))\n",
    "    for i, c in enumerate(text[:MAXLEN]):\n",
    "        x[i, alphabet.index(c)] = 1\n",
    "    if i < MAXLEN - 1 :\n",
    "        for j in range(i + 1, MAXLEN):\n",
    "            x[j, 0] = 1\n",
    "    return x\n",
    "def _decoder_data(x):\n",
    "    x = x.argmax(axis = -1)\n",
    "    return ''.join(alphabet[i] for i in x)"
   ]
  },
  {
   "cell_type": "code",
   "execution_count": 3,
   "metadata": {},
   "outputs": [
    {
     "name": "stdout",
     "output_type": "stream",
     "text": [
      "(39, 198)\n",
      "Tôi tên là Nguyễn Thế Anh\u0000\u0000\u0000\u0000\u0000\u0000\u0000\u0000\u0000\u0000\u0000\u0000\u0000\u0000\n"
     ]
    }
   ],
   "source": [
    "print(_encoder_data('Tôi tên là Nguyễn Thế Anh').shape)\n",
    "print(_decoder_data(_encoder_data('Tôi tên là Nguyễn Thế Anh')))"
   ]
  },
  {
   "cell_type": "markdown",
   "metadata": {},
   "source": [
    "<strong>3. Các hàm sẽ sử dụng để sửa lỗi chính tả trong văn bản Tiếng Việt</strong>"
   ]
  },
  {
   "cell_type": "markdown",
   "metadata": {},
   "source": [
    "- Hàm tác câu thành các ngrams"
   ]
  },
  {
   "cell_type": "code",
   "execution_count": 4,
   "metadata": {},
   "outputs": [],
   "source": [
    "def _nltk_ngrams(sentence, n, maxlen):\n",
    "    list_ngrams = []\n",
    "    list_words = sentence.split()\n",
    "    num_words = len(list_words)\n",
    "\n",
    "    if (num_words >= n):\n",
    "        for ngram in nltk.ngrams(list_words, n):\n",
    "            if len(' '.join(ngram)) <= maxlen:\n",
    "                list_ngrams.append(ngram)\n",
    "    else:\n",
    "        list_ngrams.append(tuple(list_words))\n",
    "\n",
    "    return list_ngrams"
   ]
  },
  {
   "cell_type": "code",
   "execution_count": 5,
   "metadata": {},
   "outputs": [
    {
     "data": {
      "text/plain": [
       "[('Xuwr', 'ný', 'ngoon', 'ngữ', 'tuw'), ('ný', 'ngoon', 'ngữ', 'tuw', 'nhêin')]"
      ]
     },
     "execution_count": 5,
     "metadata": {},
     "output_type": "execute_result"
    }
   ],
   "source": [
    "_nltk_ngrams('Xuwr ný ngoon ngữ tuw nhêin', NGRAM, MAXLEN)"
   ]
  },
  {
   "cell_type": "markdown",
   "metadata": {},
   "source": [
    "- Hàm dự đoán ngram bằng mô hình"
   ]
  },
  {
   "cell_type": "code",
   "execution_count": 6,
   "metadata": {},
   "outputs": [],
   "source": [
    "def _guess(ngram):\n",
    "    text = ' '.join(ngram)\n",
    "    preds = model.predict(np.array([_encoder_data(text)]))\n",
    "    return _decoder_data(preds[0]).strip('\\x00')"
   ]
  },
  {
   "cell_type": "code",
   "execution_count": 11,
   "metadata": {},
   "outputs": [
    {
     "name": "stdout",
     "output_type": "stream",
     "text": [
      "\u001b[1m1/1\u001b[0m \u001b[32m━━━━━━━━━━━━━━━━━━━━\u001b[0m\u001b[37m\u001b[0m \u001b[1m0s\u001b[0m 49ms/step\n"
     ]
    },
    {
     "data": {
      "text/plain": [
       "'Xử lý ngôn ngữ tự'"
      ]
     },
     "execution_count": 11,
     "metadata": {},
     "output_type": "execute_result"
    }
   ],
   "source": [
    "_guess(('Xuwr', 'ný', 'ngoon', 'ngữ', 'tuwj'))"
   ]
  },
  {
   "cell_type": "code",
   "execution_count": null,
   "metadata": {},
   "outputs": [],
   "source": []
  }
 ],
 "metadata": {
  "kernelspec": {
   "display_name": "Python 3",
   "language": "python",
   "name": "python3"
  },
  "language_info": {
   "codemirror_mode": {
    "name": "ipython",
    "version": 3
   },
   "file_extension": ".py",
   "mimetype": "text/x-python",
   "name": "python",
   "nbconvert_exporter": "python",
   "pygments_lexer": "ipython3",
   "version": "3.12.2"
  }
 },
 "nbformat": 4,
 "nbformat_minor": 2
}
