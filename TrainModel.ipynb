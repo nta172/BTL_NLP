{
 "cells": [
  {
   "cell_type": "markdown",
   "metadata": {},
   "source": [
    "<strong>1. Đọc file ngữ liệu đã thu thập</strong>"
   ]
  },
  {
   "cell_type": "code",
   "execution_count": 1,
   "metadata": {},
   "outputs": [
    {
     "name": "stdout",
     "output_type": "stream",
     "text": [
      "Số câu dữ liệu:  812\n"
     ]
    }
   ],
   "source": [
    "f = open('data/corpus.txt', 'r', encoding= 'utf-8')\n",
    "data = [line[:-1] for line in f.readlines()]\n",
    "f.close()\n",
    "\n",
    "print('Số câu dữ liệu: ', len(data))"
   ]
  },
  {
   "cell_type": "code",
   "execution_count": 2,
   "metadata": {},
   "outputs": [
    {
     "data": {
      "text/plain": [
       "['Khi xã hội chưa thể là \"ông chủ trả lương đúng và đủ\" cho giáo viên, thì sự tôn trọng và thấu hiểu sẽ là nguồn động viên to lớn để thầy cô giáo làm tốt công việc của mình mỗi ngày.',\n",
       " 'Tuy nhiên, đây mới là lần đầu siêu sao 39 tuổi chơi bóng tại Scotland, và anh tạo ra cơn sốt với khán giả ở đó.',\n",
       " 'Đồng thời, người sản xuất túi mù cũng đang tận dụng sức hút của Labubu. Ở Việt Nam, dữ liệu từ Metric - nền tảng thống kê thương mại điện tử - cho biết, vào quý II, các mặt hàng liên quan Labubu (chính hãng, xách tay) mang về gần 5,2 tỷ đồng trên Shopee, Lazada, Tiktok Shop.',\n",
       " 'Theo đề xuất của Bộ Giao thông Vận tải, dự án đường sắt tốc độ cao Bắc Nam có tổng mức đầu tư sơ bộ hơn 1,7 triệu tỷ đồng (tương đương 67,34 tỷ USD), tuyến đường đôi, khổ 1.',\n",
       " 'Nhiếp ảnh gia Lê Bích 52 tuổi, quê Hà Nội.',\n",
       " '000 đồng mỗi kg.',\n",
       " 'Phong cũng là người thích \"túi mù\".',\n",
       " 'Trong đó, tầng một có hai cầu vượt: cầu số 1 gồm hai nhánh (6 làn xe) nằm trên Vành đai 2, vượt qua đường Linh Đông, Phạm Văn Đồng, Kha Vạn Cân, rạch Ngang; cầu số 2 có hai làn xe, rẽ trái từ Vành đai 2 xuống đường Phạm Văn Đồng, hướng về sân bay Tân Sơn Nhất.',\n",
       " '\"Thấy miếng xốp trôi dạt, tôi vớ lấy, nhét vào áo trước bụng rồi cố nổi lên\", anh kể.',\n",
       " '000 đồng, tùy theo kích cỡ.']"
      ]
     },
     "execution_count": 2,
     "metadata": {},
     "output_type": "execute_result"
    }
   ],
   "source": [
    "data[:10]"
   ]
  },
  {
   "cell_type": "markdown",
   "metadata": {},
   "source": [
    "<strong>2. Tạo danh sách chứa đầy đủ các ký tự trong tiếng Việt và các danh sach chứa những ký tự thường lỗi hoặc từ viết</strong>"
   ]
  },
  {
   "cell_type": "code",
   "execution_count": 3,
   "metadata": {},
   "outputs": [],
   "source": [
    "vowel = list('aàáảãạăằắẳẵặâầấẩẫậeèéẻẽẹêềếểễệiìíỉĩịoòóỏõọôồốổỗộơờớởỡợuùúủũụưừứửữựyỳýỷỹỵAÀÁẢÃẠĂẰẮẲẴẶÂẦẤẨẪẬEÈÉẺẼẸÊỀẾỂỄỆIÌÍỈĨỊOÒÓỎÕỌÔỒỐỔỖỘƠỜỚỞỠỢUÙÚỦŨỤƯỪỨỬỮỰYỲÝỶỸỴ')\n",
    "full_letters = vowel + list('bcdfghjklmnpqrstvwxzBCDFGHJKLMNPQRSTVWXZdĐ')\n",
    "\n",
    "# Những lỗi thường gặp trong Tiếng Việt\n",
    "typo = {\n",
    "    # Chữ thường\n",
    "    'á':'as','à':'af','ả':'ar','ã':'ax','ạ':'aj',\n",
    "    'é':'es','è':'ef','ẻ':'er','ẽ':'ex','ẹ':'ej',\n",
    "    'í':'is','ì':'if','ỉ':'ir','ĩ':'ix','ị':'ij',\n",
    "    'ó':'os','ò':'of','ỏ':'or','õ':'ox','ọ':'oj',\n",
    "    'ú':'us','ù':'uf','ủ':'ur','ũ':'ux','ụ':'uj',\n",
    "    'ý':'ys','ỳ':'yf','ỷ':'yr','ỹ':'yx','ỵ':'yj',\n",
    "\n",
    "    # Chữ có dấu mũ\n",
    "    'ấ':'aas','ầ':'aaf','ẩ':'aar','ẫ':'aax','ậ':'aaj',\n",
    "    'ế':'ees','ề':'eef','ể':'eer','ễ':'eex','ệ':'eej',\n",
    "    'ố':'oos','ồ':'oof','ổ':'oor','ỗ':'oox','ộ':'ooj',\n",
    "\n",
    "    # Chữ có dấu móc (ơ, ư)\n",
    "    'ớ':'ows','ờ':'owf','ở':'owr','ỡ':'owx','ợ':'owj',\n",
    "    'ứ':'uws','ừ':'uwf','ử':'uwr','ữ':'uwx','ự':'uwj',\n",
    "\n",
    "    # Chữ in hoa\n",
    "    'Á':'As','À':'Af','Ả':'Ar','Ã':'Ax','Ạ':'Aj',\n",
    "    'É':'Es','È':'Ef','Ẻ':'Er','Ẽ':'Ex','Ẹ':'Ej',\n",
    "    'Í':'Is','Ì':'If','Ỉ':'Ir','Ĩ':'Ix','Ị':'Ij',\n",
    "    'Ó':'Os','Ò':'Of','Ỏ':'Or','Õ':'Ox','Ọ':'Oj',\n",
    "    'Ú':'Us','Ù':'Uf','Ủ':'Ur','Ũ':'Ux','Ụ':'Uj',\n",
    "    'Ý':'Ys','Ỳ':'Yf','Ỷ':'Yr','Ỹ':'Yx','Ỵ':'Yj',\n",
    "\n",
    "    # Chữ in hoa có dấu mũ\n",
    "    'Ấ':'Aas','Ầ':'Aaf','Ẩ':'Aar','Ẫ':'Aax','Ậ':'Aaj',\n",
    "    'Ế':'Ees','Ề':'Eef','Ể':'Eer','Ễ':'Eex','Ệ':'Eej',\n",
    "    'Ố':'Oos','Ồ':'Oof','Ổ':'Oor','Ỗ':'Oox','Ộ':'Ooj',\n",
    "\n",
    "    # Chữ in hoa có dấu móc (Ơ, Ư)\n",
    "    'Ớ':'Ows','Ờ':'Owf','Ở':'Owr','Ỡ':'Owx','Ợ':'Owj',\n",
    "    'Ứ':'Uws','Ừ':'Uwf','Ử':'Uwr','Ữ':'Uwx','Ự':'Uwj'\n",
    "}\n",
    "\n",
    "\n",
    "region = {'ả':'ã','ã':'ả','ẻ':'ẽ','ẽ':'ẻ','ỉ':'ĩ','ĩ':'ỉ','ỏ':'õ','õ':'ỏ','ủ':'ũ','ũ':'ủ','ỷ':'ỹ','ỹ':'ỷ', \n",
    "          'À':'Ã','Ã':'À','È':'Ẽ','Ẽ':'È','Ì':'Ĩ','Ĩ':'Ì','Ò':'Õ','Õ':'Ò','Ù':'Ũ','Ũ':'Ù','Ỳ':'Ỹ','Ỹ':'Ỳ'}\n",
    "\n",
    "\n",
    "region2 = {'ch':'tr', 'tr':'ch','gi':'d','d':'gi','l':'n','n':'l','s':'x','x':'s',\n",
    "           'Ch':'Tr', 'Tr':'Ch','Gi':'D','D':'Gi','L':'N','N':'L','S':'X','X':'S'}\n",
    "\n",
    "acronym = {'anh':'a','biết':'bít','chồng':'ck','được':'đc','em':'e','gì':'j','giờ':'h',\n",
    "           'Anh':'A','Biết':'Bít','Chồng':'Ck','Được':'Đc','Em':'E','Gì':'J','Giờ':'H',\n",
    "           'không':'ko','muốn':'mún','ông':'ôg','phải':'fai','tôi':'t','vợ':'vk','yêu':'iu',\n",
    "           'Không':'Ko','Muốn':'Mún','Ông':'Ôg','Phải':'Fai','Tôi':'T','Vợ':'Vk','Yêu':'Iu',\n",
    "           'bạn':'b','rồi':'r','Bạn':'B','Rồi':'r'\n",
    "           } "
   ]
  },
  {
   "cell_type": "code",
   "execution_count": 4,
   "metadata": {},
   "outputs": [
    {
     "name": "stdout",
     "output_type": "stream",
     "text": [
      "Requirement already satisfied: unidecode in c:\\users\\admin\\anaconda3\\lib\\site-packages (1.2.0)\n"
     ]
    }
   ],
   "source": [
    "!pip install unidecode"
   ]
  },
  {
   "cell_type": "markdown",
   "metadata": {},
   "source": [
    "<strong>3. Viết hàm tạo ra dữ liệu nhiễu</strong>"
   ]
  },
  {
   "cell_type": "code",
   "execution_count": 4,
   "metadata": {},
   "outputs": [],
   "source": [
    "import re\n",
    "import numpy as np\n",
    "from unidecode import unidecode\n",
    "\n",
    "# Hàm thêm từ viết tắt\n",
    "def _teen_code(sentence):\n",
    "    random = np.random.uniform(0,1,1)[0]\n",
    "    new_sentence = str(sentence)\n",
    "\n",
    "    if random > 0.5:\n",
    "        for word in acronym.keys():\n",
    "            if re.search(word, new_sentence):\n",
    "                random2 = np.random.uniform(0,1,1)[0]\n",
    "                if random2 < 0.5:\n",
    "                    new_sentence = re.sub(word, acronym[word], new_sentence)\n",
    "        return new_sentence\n",
    "    else:\n",
    "        return sentence\n",
    "# Hàm thêm các lỗi\n",
    "def _add_noise(sentence):\n",
    "    sentence = _teen_code(sentence)\n",
    "    noisy_sentence = ''\n",
    "\n",
    "    i = 0\n",
    "    while i < len(sentence):\n",
    "        if sentence[i] not in full_letters:\n",
    "            noisy_sentence += sentence[i]\n",
    "        else:\n",
    "            random = np.random.uniform(0,1,1)[0]\n",
    "            if random <= 0.94:\n",
    "                noisy_sentence += sentence[i]\n",
    "            elif random <= 0.985:\n",
    "                if sentence[i] in typo.keys():\n",
    "                    if sentence[i] in region.keys():\n",
    "                        random2 = np.random.uniform(0,1,1)[0]\n",
    "                        if random2 <= 0.4:\n",
    "                            noisy_sentence += typo[sentence[i]]\n",
    "                        elif random2 < 0.8:\n",
    "                            noisy_sentence += region[sentence[i]]\n",
    "                        elif random < 0.95:\n",
    "                            noisy_sentence += unidecode(sentence[i])\n",
    "                        else:\n",
    "                            noisy_sentence += sentence[i]\n",
    "                    else:\n",
    "                        random3 = np.random.uniform(0,1,1)[0]\n",
    "                        if random3 <= 0.6:\n",
    "                            noisy_sentence += typo[sentence[i]]\n",
    "                        elif random3 < 0.9:\n",
    "                            noisy_sentence += unidecode(sentence[i])\n",
    "                        else:\n",
    "                            noisy_sentence += sentence[i]\n",
    "                elif i == 0 or sentence[i-1] not in full_letters:\n",
    "                    random4 = np.random.uniform(0,1,1)[0]\n",
    "                    if random4 <= 0.9:\n",
    "                        if i < len(sentence) - 1 and sentence[i] in region2.keys() and sentence[i+1] in vowel:\n",
    "                            noisy_sentence += region2[sentence[i]]\n",
    "                        elif i < len(sentence) - 2 and sentence[i:i+2] in region2.keys() and sentence[i+2] in vowel:\n",
    "                            noisy_sentence += region2[sentence[i:i+2]]\n",
    "                            i += 1\n",
    "                        else:\n",
    "                            noisy_sentence += sentence[i]\n",
    "                    else:\n",
    "                        noisy_sentence += sentence[i]\n",
    "                else:\n",
    "                    noisy_sentence += sentence[i]\n",
    "            else:\n",
    "                new_random = np.random.uniform(0,1,1)[0]\n",
    "                if new_random <= 0.33 and i != len(sentence) - 1:\n",
    "                    noisy_sentence += sentence[i+1]\n",
    "                    noisy_sentence += sentence[i]\n",
    "                    i += 1\n",
    "                else:\n",
    "                    noisy_sentence += sentence[i]\n",
    "        i += 1\n",
    "    return noisy_sentence\n"
   ]
  },
  {
   "cell_type": "code",
   "execution_count": 8,
   "metadata": {},
   "outputs": [
    {
     "data": {
      "text/plain": [
       "'Tôi tên là Nguyễn Thế A'"
      ]
     },
     "execution_count": 8,
     "metadata": {},
     "output_type": "execute_result"
    }
   ],
   "source": [
    "_add_noise('Tôi tên là Nguyễn Thế Anh')"
   ]
  },
  {
   "cell_type": "code",
   "execution_count": 9,
   "metadata": {},
   "outputs": [
    {
     "name": "stdout",
     "output_type": "stream",
     "text": [
      "198\n",
      "['\\x00', ' ', '0', '1', '2', '3', '4', '5', '6', '7', '8', '9', 'a', 'à', 'á', 'ả', 'ã', 'ạ', 'ă', 'ằ', 'ắ', 'ẳ', 'ẵ', 'ặ', 'â', 'ầ', 'ấ', 'ẩ', 'ẫ', 'ậ', 'e', 'è', 'é', 'ẻ', 'ẽ', 'ẹ', 'ê', 'ề', 'ế', 'ể', 'ễ', 'ệ', 'i', 'ì', 'í', 'ỉ', 'ĩ', 'ị', 'o', 'ò', 'ó', 'ỏ', 'õ', 'ọ', 'ô', 'ồ', 'ố', 'ổ', 'ỗ', 'ộ', 'ơ', 'ờ', 'ớ', 'ở', 'ỡ', 'ợ', 'u', 'ù', 'ú', 'ủ', 'ũ', 'ụ', 'ư', 'ừ', 'ứ', 'ử', 'ữ', 'ự', 'y', 'ỳ', 'ý', 'ỷ', 'ỹ', 'ỵ', 'A', 'À', 'Á', 'Ả', 'Ã', 'Ạ', 'Ă', 'Ằ', 'Ắ', 'Ẳ', 'Ẵ', 'Ặ', 'Â', 'Ầ', 'Ấ', 'Ẩ', 'Ẫ', 'Ậ', 'E', 'È', 'É', 'Ẻ', 'Ẽ', 'Ẹ', 'Ê', 'Ề', 'Ế', 'Ể', 'Ễ', 'Ệ', 'I', 'Ì', 'Í', 'Ỉ', 'Ĩ', 'Ị', 'O', 'Ò', 'Ó', 'Ỏ', 'Õ', 'Ọ', 'Ô', 'Ồ', 'Ố', 'Ổ', 'Ỗ', 'Ộ', 'Ơ', 'Ờ', 'Ớ', 'Ở', 'Ỡ', 'Ợ', 'U', 'Ù', 'Ú', 'Ủ', 'Ũ', 'Ụ', 'Ư', 'Ừ', 'Ứ', 'Ử', 'Ữ', 'Ự', 'Y', 'Ỳ', 'Ý', 'Ỷ', 'Ỹ', 'Ỵ', 'b', 'c', 'd', 'f', 'g', 'h', 'j', 'k', 'l', 'm', 'n', 'p', 'q', 'r', 's', 't', 'v', 'w', 'x', 'z', 'B', 'C', 'D', 'F', 'G', 'H', 'J', 'K', 'L', 'M', 'N', 'P', 'Q', 'R', 'S', 'T', 'V', 'W', 'X', 'Z', 'd', 'Đ']\n"
     ]
    }
   ],
   "source": [
    "# Các ký tự có thể xuất hiện trong encoder\n",
    "alphabet = ['\\x00', ' '] + list('0123456789') + full_letters\n",
    "print(len(alphabet))\n",
    "print(alphabet)"
   ]
  },
  {
   "cell_type": "markdown",
   "metadata": {},
   "source": [
    "<strong>4. Tách câu thành các cụm tù dựa vào dấu phân cách hoặc ký tự đặc biệt</strong>"
   ]
  },
  {
   "cell_type": "code",
   "execution_count": 10,
   "metadata": {},
   "outputs": [
    {
     "name": "stdout",
     "output_type": "stream",
     "text": [
      "2284\n"
     ]
    },
    {
     "name": "stderr",
     "output_type": "stream",
     "text": [
      "<>:7: SyntaxWarning: invalid escape sequence '\\w'\n",
      "<>:9: SyntaxWarning: invalid escape sequence '\\w'\n",
      "<>:7: SyntaxWarning: invalid escape sequence '\\w'\n",
      "<>:9: SyntaxWarning: invalid escape sequence '\\w'\n",
      "C:\\Users\\ADMIN\\AppData\\Local\\Temp\\ipykernel_20648\\1904198628.py:7: SyntaxWarning: invalid escape sequence '\\w'\n",
      "  if re.match('\\w', c) and c not in alphabet:\n",
      "C:\\Users\\ADMIN\\AppData\\Local\\Temp\\ipykernel_20648\\1904198628.py:9: SyntaxWarning: invalid escape sequence '\\w'\n",
      "  if re.match('\\w', uc) and uc not in alphabet:\n"
     ]
    },
    {
     "data": {
      "text/plain": [
       "['Theo Tổng cục Thống kê',\n",
       " 'quy mô GDP theo giá hiện hành 2023 ước dạt 430 tỷ USD',\n",
       " 'Phần cửa chính bằng gỗ lim dược sửa chữa',\n",
       " 'Ngoài ra',\n",
       " 'ông Bình còn bị cáo buộc lập khống hồ sơ dể dược Agribank chi nhánh Đống Đa cấp tín dụng',\n",
       " 'Nếu tính dến tác dộng thực tế',\n",
       " 'UAV cũng chỉ giống các quả dạn khác',\n",
       " 'người này cho hay',\n",
       " 'Lưới phòng không da tầng của Israel tối ưu cho dánh chặn tên lửa và rocket',\n",
       " 'dể lại lỗ hổng cho UAV Hezbollah xâm nhập và gây thiệt hại lớn']"
      ]
     },
     "execution_count": 10,
     "metadata": {},
     "output_type": "execute_result"
    }
   ],
   "source": [
    "# Tách câu thành các cụm từ dựa vào các ký tự không phải số và chữ cái\n",
    "phrases = []\n",
    "\n",
    "for text in data:\n",
    "    #Thay thế hoặc xóa bỏ các ký tự thừa\n",
    "    for c in set(text):\n",
    "        if re.match('\\w', c) and c not in alphabet:\n",
    "            uc = unidecode(c)\n",
    "            if re.match('\\w', uc) and uc not in alphabet:\n",
    "                text = re.sub(c, '', text)\n",
    "            else:\n",
    "                text = re.sub(c, uc, text)\n",
    "    phrases += re.findall(r'\\w[\\w\\s]+', text)\n",
    "\n",
    "phrases = [p.strip() for p in phrases if len(p.split()) > 1]\n",
    "\n",
    "print(len(phrases))\n",
    "phrases[-10:]"
   ]
  },
  {
   "cell_type": "code",
   "execution_count": 9,
   "metadata": {},
   "outputs": [
    {
     "name": "stdout",
     "output_type": "stream",
     "text": [
      "Requirement already satisfied: nltk in c:\\users\\admin\\anaconda3\\lib\\site-packages (3.9.1)\n",
      "Requirement already satisfied: click in c:\\users\\admin\\anaconda3\\lib\\site-packages (from nltk) (8.1.7)\n",
      "Requirement already satisfied: joblib in c:\\users\\admin\\anaconda3\\lib\\site-packages (from nltk) (1.4.2)\n",
      "Requirement already satisfied: regex>=2021.8.3 in c:\\users\\admin\\anaconda3\\lib\\site-packages (from nltk) (2023.10.3)\n",
      "Requirement already satisfied: tqdm in c:\\users\\admin\\anaconda3\\lib\\site-packages (from nltk) (4.66.4)\n",
      "Requirement already satisfied: colorama in c:\\users\\admin\\appdata\\roaming\\python\\python312\\site-packages (from click->nltk) (0.4.6)\n"
     ]
    }
   ],
   "source": [
    "!pip install --upgrade nltk"
   ]
  },
  {
   "cell_type": "markdown",
   "metadata": {},
   "source": [
    "<strong>5. Tách các cụm từ thành danh sách 5-grams với độ dài tối đa là 39 ký tự</strong>"
   ]
  },
  {
   "cell_type": "code",
   "execution_count": 10,
   "metadata": {},
   "outputs": [
    {
     "name": "stdout",
     "output_type": "stream",
     "text": [
      "12533\n"
     ]
    },
    {
     "data": {
      "text/plain": [
       "['Khi xã hội chưa thể',\n",
       " 'xã hội chưa thể là',\n",
       " 'ông chủ trả lương dúng',\n",
       " 'chủ trả lương dúng và',\n",
       " 'trả lương dúng và dủ',\n",
       " 'cho giáo viên',\n",
       " 'thì sự tôn trọng và',\n",
       " 'sự tôn trọng và thấu',\n",
       " 'tôn trọng và thấu hiểu',\n",
       " 'trọng và thấu hiểu sẽ']"
      ]
     },
     "execution_count": 10,
     "metadata": {},
     "output_type": "execute_result"
    }
   ],
   "source": [
    "from nltk import ngrams\n",
    "# Chia các cụm từ thành các cụm tối đa là 5 g-rams\n",
    "# Độ dài tối đa của 1 từ trong tiếng việt là  7 (nghiêng)\n",
    "# Vì vậy độ dài tối đa của cụm 5 g-rams và các khoảng cách ở giữa là 7*5 + 4 = 39\n",
    "NGRAM = 5 \n",
    "MAXLEN = 39 \n",
    "\n",
    "list_ngrams = []\n",
    "for p in phrases:\n",
    "    list_p = p.split()\n",
    "    if(len(list_p) >= NGRAM):\n",
    "        for ngr in ngrams(p.split(), NGRAM):\n",
    "            if len(' '.join(ngr)) <= MAXLEN:\n",
    "                list_ngrams.append(' '.join(ngr))\n",
    "    elif len(' '.join(list_p)) <= MAXLEN:\n",
    "        list_ngrams.append(' '.join(list_p))\n",
    "\n",
    "list_ngrams = list((list_ngrams))\n",
    "print(len(list_ngrams))\n",
    "list_ngrams[:10]"
   ]
  },
  {
   "cell_type": "markdown",
   "metadata": {},
   "source": [
    "<strong>6. Viết hàm encoder chuyển chuỗi thành mảng vector one-hot có kích thước 39x198 hàm decoder giải mã ra chuỗi có độ dài 39 ký tự</strong>"
   ]
  },
  {
   "cell_type": "code",
   "execution_count": 11,
   "metadata": {},
   "outputs": [],
   "source": [
    "# Đệm '\\x00' vào cuối của các cụm ngrams có độ dài < độ dài tối đa là 39\n",
    "def _encoder_data(text):\n",
    "    x = np.zeros((MAXLEN, len(alphabet)))\n",
    "    for i, c in enumerate(text[:MAXLEN]):\n",
    "        x[i, alphabet.index(c)] = 1\n",
    "    if i < MAXLEN - 1 :\n",
    "        for j in range(i + 1, MAXLEN):\n",
    "            x[j, 0] = 1\n",
    "    return x\n",
    "def _decoder_data(x):\n",
    "    x = x.argmax(axis = -1)\n",
    "    return ''.join(alphabet[i] for i in x)"
   ]
  },
  {
   "cell_type": "code",
   "execution_count": 12,
   "metadata": {},
   "outputs": [
    {
     "name": "stdout",
     "output_type": "stream",
     "text": [
      "(39, 198)\n",
      "Tôi tên là Nguyễn Thế Anh\u0000\u0000\u0000\u0000\u0000\u0000\u0000\u0000\u0000\u0000\u0000\u0000\u0000\u0000\n"
     ]
    }
   ],
   "source": [
    "print(_encoder_data('Tôi tên là Nguyễn Thế Anh').shape)\n",
    "print(_decoder_data(_encoder_data('Tôi tên là Nguyễn Thế Anh')))"
   ]
  },
  {
   "cell_type": "code",
   "execution_count": 13,
   "metadata": {},
   "outputs": [
    {
     "name": "stdout",
     "output_type": "stream",
     "text": [
      "Requirement already satisfied: keras in c:\\users\\admin\\anaconda3\\lib\\site-packages (3.6.0)\n",
      "Requirement already satisfied: tensorflow in c:\\users\\admin\\anaconda3\\lib\\site-packages (2.17.0)\n",
      "Requirement already satisfied: absl-py in c:\\users\\admin\\anaconda3\\lib\\site-packages (from keras) (2.1.0)\n",
      "Requirement already satisfied: numpy in c:\\users\\admin\\anaconda3\\lib\\site-packages (from keras) (1.26.4)\n",
      "Requirement already satisfied: rich in c:\\users\\admin\\anaconda3\\lib\\site-packages (from keras) (13.3.5)\n",
      "Requirement already satisfied: namex in c:\\users\\admin\\anaconda3\\lib\\site-packages (from keras) (0.0.8)\n",
      "Requirement already satisfied: h5py in c:\\users\\admin\\anaconda3\\lib\\site-packages (from keras) (3.11.0)\n",
      "Requirement already satisfied: optree in c:\\users\\admin\\anaconda3\\lib\\site-packages (from keras) (0.13.0)\n",
      "Requirement already satisfied: ml-dtypes in c:\\users\\admin\\anaconda3\\lib\\site-packages (from keras) (0.4.1)\n",
      "Requirement already satisfied: packaging in c:\\users\\admin\\appdata\\roaming\\python\\python312\\site-packages (from keras) (24.1)\n",
      "Requirement already satisfied: tensorflow-intel==2.17.0 in c:\\users\\admin\\anaconda3\\lib\\site-packages (from tensorflow) (2.17.0)\n",
      "Requirement already satisfied: astunparse>=1.6.0 in c:\\users\\admin\\anaconda3\\lib\\site-packages (from tensorflow-intel==2.17.0->tensorflow) (1.6.3)\n",
      "Requirement already satisfied: flatbuffers>=24.3.25 in c:\\users\\admin\\anaconda3\\lib\\site-packages (from tensorflow-intel==2.17.0->tensorflow) (24.3.25)\n",
      "Requirement already satisfied: gast!=0.5.0,!=0.5.1,!=0.5.2,>=0.2.1 in c:\\users\\admin\\anaconda3\\lib\\site-packages (from tensorflow-intel==2.17.0->tensorflow) (0.6.0)\n",
      "Requirement already satisfied: google-pasta>=0.1.1 in c:\\users\\admin\\anaconda3\\lib\\site-packages (from tensorflow-intel==2.17.0->tensorflow) (0.2.0)\n",
      "Requirement already satisfied: libclang>=13.0.0 in c:\\users\\admin\\anaconda3\\lib\\site-packages (from tensorflow-intel==2.17.0->tensorflow) (18.1.1)\n",
      "Requirement already satisfied: opt-einsum>=2.3.2 in c:\\users\\admin\\anaconda3\\lib\\site-packages (from tensorflow-intel==2.17.0->tensorflow) (3.4.0)\n",
      "Requirement already satisfied: protobuf!=4.21.0,!=4.21.1,!=4.21.2,!=4.21.3,!=4.21.4,!=4.21.5,<5.0.0dev,>=3.20.3 in c:\\users\\admin\\anaconda3\\lib\\site-packages (from tensorflow-intel==2.17.0->tensorflow) (3.20.3)\n",
      "Requirement already satisfied: requests<3,>=2.21.0 in c:\\users\\admin\\anaconda3\\lib\\site-packages (from tensorflow-intel==2.17.0->tensorflow) (2.32.2)\n",
      "Requirement already satisfied: setuptools in c:\\users\\admin\\anaconda3\\lib\\site-packages (from tensorflow-intel==2.17.0->tensorflow) (69.5.1)\n",
      "Requirement already satisfied: six>=1.12.0 in c:\\users\\admin\\appdata\\roaming\\python\\python312\\site-packages (from tensorflow-intel==2.17.0->tensorflow) (1.16.0)\n",
      "Requirement already satisfied: termcolor>=1.1.0 in c:\\users\\admin\\anaconda3\\lib\\site-packages (from tensorflow-intel==2.17.0->tensorflow) (2.5.0)\n",
      "Requirement already satisfied: typing-extensions>=3.6.6 in c:\\users\\admin\\anaconda3\\lib\\site-packages (from tensorflow-intel==2.17.0->tensorflow) (4.11.0)\n",
      "Requirement already satisfied: wrapt>=1.11.0 in c:\\users\\admin\\anaconda3\\lib\\site-packages (from tensorflow-intel==2.17.0->tensorflow) (1.14.1)\n",
      "Requirement already satisfied: grpcio<2.0,>=1.24.3 in c:\\users\\admin\\anaconda3\\lib\\site-packages (from tensorflow-intel==2.17.0->tensorflow) (1.67.0)\n",
      "Requirement already satisfied: tensorboard<2.18,>=2.17 in c:\\users\\admin\\anaconda3\\lib\\site-packages (from tensorflow-intel==2.17.0->tensorflow) (2.17.1)\n",
      "Requirement already satisfied: markdown-it-py<3.0.0,>=2.2.0 in c:\\users\\admin\\anaconda3\\lib\\site-packages (from rich->keras) (2.2.0)\n",
      "Requirement already satisfied: pygments<3.0.0,>=2.13.0 in c:\\users\\admin\\appdata\\roaming\\python\\python312\\site-packages (from rich->keras) (2.18.0)\n",
      "Requirement already satisfied: wheel<1.0,>=0.23.0 in c:\\users\\admin\\anaconda3\\lib\\site-packages (from astunparse>=1.6.0->tensorflow-intel==2.17.0->tensorflow) (0.43.0)\n",
      "Requirement already satisfied: mdurl~=0.1 in c:\\users\\admin\\anaconda3\\lib\\site-packages (from markdown-it-py<3.0.0,>=2.2.0->rich->keras) (0.1.0)\n",
      "Requirement already satisfied: charset-normalizer<4,>=2 in c:\\users\\admin\\anaconda3\\lib\\site-packages (from requests<3,>=2.21.0->tensorflow-intel==2.17.0->tensorflow) (2.0.4)\n",
      "Requirement already satisfied: idna<4,>=2.5 in c:\\users\\admin\\anaconda3\\lib\\site-packages (from requests<3,>=2.21.0->tensorflow-intel==2.17.0->tensorflow) (3.7)\n",
      "Requirement already satisfied: urllib3<3,>=1.21.1 in c:\\users\\admin\\anaconda3\\lib\\site-packages (from requests<3,>=2.21.0->tensorflow-intel==2.17.0->tensorflow) (2.2.2)\n",
      "Requirement already satisfied: certifi>=2017.4.17 in c:\\users\\admin\\anaconda3\\lib\\site-packages (from requests<3,>=2.21.0->tensorflow-intel==2.17.0->tensorflow) (2024.8.30)\n",
      "Requirement already satisfied: markdown>=2.6.8 in c:\\users\\admin\\anaconda3\\lib\\site-packages (from tensorboard<2.18,>=2.17->tensorflow-intel==2.17.0->tensorflow) (3.4.1)\n",
      "Requirement already satisfied: tensorboard-data-server<0.8.0,>=0.7.0 in c:\\users\\admin\\anaconda3\\lib\\site-packages (from tensorboard<2.18,>=2.17->tensorflow-intel==2.17.0->tensorflow) (0.7.2)\n",
      "Requirement already satisfied: werkzeug>=1.0.1 in c:\\users\\admin\\anaconda3\\lib\\site-packages (from tensorboard<2.18,>=2.17->tensorflow-intel==2.17.0->tensorflow) (3.0.3)\n",
      "Requirement already satisfied: MarkupSafe>=2.1.1 in c:\\users\\admin\\anaconda3\\lib\\site-packages (from werkzeug>=1.0.1->tensorboard<2.18,>=2.17->tensorflow-intel==2.17.0->tensorflow) (2.1.3)\n"
     ]
    }
   ],
   "source": [
    "!pip install keras tensorflow"
   ]
  },
  {
   "cell_type": "markdown",
   "metadata": {},
   "source": [
    "<strong>7. Xây dựng mô hình</strong>"
   ]
  },
  {
   "cell_type": "code",
   "execution_count": 14,
   "metadata": {},
   "outputs": [],
   "source": [
    "# Xây dựng kiến trúc mạng neural nhân tạo seq2seq\n",
    "from keras.models import Sequential\n",
    "from keras.layers import TimeDistributed, Dense, LSTM, Bidirectional\n",
    "from tensorflow.keras.optimizers import Adam"
   ]
  },
  {
   "cell_type": "code",
   "execution_count": 15,
   "metadata": {},
   "outputs": [
    {
     "name": "stderr",
     "output_type": "stream",
     "text": [
      "c:\\Users\\ADMIN\\anaconda3\\Lib\\site-packages\\keras\\src\\layers\\rnn\\rnn.py:204: UserWarning: Do not pass an `input_shape`/`input_dim` argument to a layer. When using Sequential models, prefer using an `Input(shape)` object as the first layer in the model instead.\n",
      "  super().__init__(**kwargs)\n"
     ]
    }
   ],
   "source": [
    "encoder = LSTM(256, input_shape = (MAXLEN, len(alphabet)), return_sequences = True)"
   ]
  },
  {
   "cell_type": "code",
   "execution_count": 16,
   "metadata": {},
   "outputs": [],
   "source": [
    "decoder = Bidirectional(LSTM(256, return_sequences = True, dropout = 0.2))"
   ]
  },
  {
   "cell_type": "code",
   "execution_count": 17,
   "metadata": {},
   "outputs": [
    {
     "data": {
      "text/html": [
       "<pre style=\"white-space:pre;overflow-x:auto;line-height:normal;font-family:Menlo,'DejaVu Sans Mono',consolas,'Courier New',monospace\"><span style=\"font-weight: bold\">Model: \"sequential\"</span>\n",
       "</pre>\n"
      ],
      "text/plain": [
       "\u001b[1mModel: \"sequential\"\u001b[0m\n"
      ]
     },
     "metadata": {},
     "output_type": "display_data"
    },
    {
     "data": {
      "text/html": [
       "<pre style=\"white-space:pre;overflow-x:auto;line-height:normal;font-family:Menlo,'DejaVu Sans Mono',consolas,'Courier New',monospace\">┏━━━━━━━━━━━━━━━━━━━━━━━━━━━━━━━━━┳━━━━━━━━━━━━━━━━━━━━━━━━┳━━━━━━━━━━━━━━━┓\n",
       "┃<span style=\"font-weight: bold\"> Layer (type)                    </span>┃<span style=\"font-weight: bold\"> Output Shape           </span>┃<span style=\"font-weight: bold\">       Param # </span>┃\n",
       "┡━━━━━━━━━━━━━━━━━━━━━━━━━━━━━━━━━╇━━━━━━━━━━━━━━━━━━━━━━━━╇━━━━━━━━━━━━━━━┩\n",
       "│ lstm (<span style=\"color: #0087ff; text-decoration-color: #0087ff\">LSTM</span>)                     │ (<span style=\"color: #00d7ff; text-decoration-color: #00d7ff\">None</span>, <span style=\"color: #00af00; text-decoration-color: #00af00\">39</span>, <span style=\"color: #00af00; text-decoration-color: #00af00\">256</span>)        │       <span style=\"color: #00af00; text-decoration-color: #00af00\">465,920</span> │\n",
       "├─────────────────────────────────┼────────────────────────┼───────────────┤\n",
       "│ bidirectional (<span style=\"color: #0087ff; text-decoration-color: #0087ff\">Bidirectional</span>)   │ (<span style=\"color: #00d7ff; text-decoration-color: #00d7ff\">None</span>, <span style=\"color: #00af00; text-decoration-color: #00af00\">39</span>, <span style=\"color: #00af00; text-decoration-color: #00af00\">512</span>)        │     <span style=\"color: #00af00; text-decoration-color: #00af00\">1,050,624</span> │\n",
       "├─────────────────────────────────┼────────────────────────┼───────────────┤\n",
       "│ time_distributed                │ (<span style=\"color: #00d7ff; text-decoration-color: #00d7ff\">None</span>, <span style=\"color: #00af00; text-decoration-color: #00af00\">39</span>, <span style=\"color: #00af00; text-decoration-color: #00af00\">256</span>)        │       <span style=\"color: #00af00; text-decoration-color: #00af00\">131,328</span> │\n",
       "│ (<span style=\"color: #0087ff; text-decoration-color: #0087ff\">TimeDistributed</span>)               │                        │               │\n",
       "├─────────────────────────────────┼────────────────────────┼───────────────┤\n",
       "│ time_distributed_1              │ (<span style=\"color: #00d7ff; text-decoration-color: #00d7ff\">None</span>, <span style=\"color: #00af00; text-decoration-color: #00af00\">39</span>, <span style=\"color: #00af00; text-decoration-color: #00af00\">198</span>)        │        <span style=\"color: #00af00; text-decoration-color: #00af00\">50,886</span> │\n",
       "│ (<span style=\"color: #0087ff; text-decoration-color: #0087ff\">TimeDistributed</span>)               │                        │               │\n",
       "└─────────────────────────────────┴────────────────────────┴───────────────┘\n",
       "</pre>\n"
      ],
      "text/plain": [
       "┏━━━━━━━━━━━━━━━━━━━━━━━━━━━━━━━━━┳━━━━━━━━━━━━━━━━━━━━━━━━┳━━━━━━━━━━━━━━━┓\n",
       "┃\u001b[1m \u001b[0m\u001b[1mLayer (type)                   \u001b[0m\u001b[1m \u001b[0m┃\u001b[1m \u001b[0m\u001b[1mOutput Shape          \u001b[0m\u001b[1m \u001b[0m┃\u001b[1m \u001b[0m\u001b[1m      Param #\u001b[0m\u001b[1m \u001b[0m┃\n",
       "┡━━━━━━━━━━━━━━━━━━━━━━━━━━━━━━━━━╇━━━━━━━━━━━━━━━━━━━━━━━━╇━━━━━━━━━━━━━━━┩\n",
       "│ lstm (\u001b[38;5;33mLSTM\u001b[0m)                     │ (\u001b[38;5;45mNone\u001b[0m, \u001b[38;5;34m39\u001b[0m, \u001b[38;5;34m256\u001b[0m)        │       \u001b[38;5;34m465,920\u001b[0m │\n",
       "├─────────────────────────────────┼────────────────────────┼───────────────┤\n",
       "│ bidirectional (\u001b[38;5;33mBidirectional\u001b[0m)   │ (\u001b[38;5;45mNone\u001b[0m, \u001b[38;5;34m39\u001b[0m, \u001b[38;5;34m512\u001b[0m)        │     \u001b[38;5;34m1,050,624\u001b[0m │\n",
       "├─────────────────────────────────┼────────────────────────┼───────────────┤\n",
       "│ time_distributed                │ (\u001b[38;5;45mNone\u001b[0m, \u001b[38;5;34m39\u001b[0m, \u001b[38;5;34m256\u001b[0m)        │       \u001b[38;5;34m131,328\u001b[0m │\n",
       "│ (\u001b[38;5;33mTimeDistributed\u001b[0m)               │                        │               │\n",
       "├─────────────────────────────────┼────────────────────────┼───────────────┤\n",
       "│ time_distributed_1              │ (\u001b[38;5;45mNone\u001b[0m, \u001b[38;5;34m39\u001b[0m, \u001b[38;5;34m198\u001b[0m)        │        \u001b[38;5;34m50,886\u001b[0m │\n",
       "│ (\u001b[38;5;33mTimeDistributed\u001b[0m)               │                        │               │\n",
       "└─────────────────────────────────┴────────────────────────┴───────────────┘\n"
      ]
     },
     "metadata": {},
     "output_type": "display_data"
    },
    {
     "data": {
      "text/html": [
       "<pre style=\"white-space:pre;overflow-x:auto;line-height:normal;font-family:Menlo,'DejaVu Sans Mono',consolas,'Courier New',monospace\"><span style=\"font-weight: bold\"> Total params: </span><span style=\"color: #00af00; text-decoration-color: #00af00\">1,698,758</span> (6.48 MB)\n",
       "</pre>\n"
      ],
      "text/plain": [
       "\u001b[1m Total params: \u001b[0m\u001b[38;5;34m1,698,758\u001b[0m (6.48 MB)\n"
      ]
     },
     "metadata": {},
     "output_type": "display_data"
    },
    {
     "data": {
      "text/html": [
       "<pre style=\"white-space:pre;overflow-x:auto;line-height:normal;font-family:Menlo,'DejaVu Sans Mono',consolas,'Courier New',monospace\"><span style=\"font-weight: bold\"> Trainable params: </span><span style=\"color: #00af00; text-decoration-color: #00af00\">1,698,758</span> (6.48 MB)\n",
       "</pre>\n"
      ],
      "text/plain": [
       "\u001b[1m Trainable params: \u001b[0m\u001b[38;5;34m1,698,758\u001b[0m (6.48 MB)\n"
      ]
     },
     "metadata": {},
     "output_type": "display_data"
    },
    {
     "data": {
      "text/html": [
       "<pre style=\"white-space:pre;overflow-x:auto;line-height:normal;font-family:Menlo,'DejaVu Sans Mono',consolas,'Courier New',monospace\"><span style=\"font-weight: bold\"> Non-trainable params: </span><span style=\"color: #00af00; text-decoration-color: #00af00\">0</span> (0.00 B)\n",
       "</pre>\n"
      ],
      "text/plain": [
       "\u001b[1m Non-trainable params: \u001b[0m\u001b[38;5;34m0\u001b[0m (0.00 B)\n"
      ]
     },
     "metadata": {},
     "output_type": "display_data"
    }
   ],
   "source": [
    "model = Sequential()\n",
    "\n",
    "# Thêm encoder và decoder vào mô hình\n",
    "model.add(encoder)\n",
    "model.add(decoder)\n",
    "\n",
    "# Lớp TimeDistributed với hàm kích hoạt 'relu'\n",
    "model.add(TimeDistributed(Dense(256, activation='relu')))\n",
    "\n",
    "# Lớp TimeDistributed với hàm kích hoạt 'softmax'\n",
    "model.add(TimeDistributed(Dense(len(alphabet), activation='softmax')))\n",
    "\n",
    "# Biên dịch mô hình\n",
    "model.compile(loss='categorical_crossentropy',\n",
    "              optimizer=Adam(learning_rate=0.001),\n",
    "              metrics=['accuracy'])\n",
    "\n",
    "# Hiển thị thông tin về mô hình\n",
    "model.summary()"
   ]
  },
  {
   "cell_type": "code",
   "execution_count": 18,
   "metadata": {},
   "outputs": [
    {
     "name": "stdout",
     "output_type": "stream",
     "text": [
      "You must install graphviz (see instructions at https://graphviz.gitlab.io/download/) for `plot_model` to work.\n"
     ]
    }
   ],
   "source": [
    "from tensorflow.keras.utils import plot_model\n",
    "plot_model(model, to_file = 'model.png')"
   ]
  },
  {
   "cell_type": "markdown",
   "metadata": {},
   "source": [
    "<strong>8. Tách dữ liệu thành tập training và validation</strong>"
   ]
  },
  {
   "cell_type": "code",
   "execution_count": 19,
   "metadata": {},
   "outputs": [],
   "source": [
    "#Tách dữ liệu thành 80% training và 20% validation\n",
    "from sklearn.model_selection import train_test_split\n",
    "train_data, valid_data = train_test_split(list_ngrams, test_size = 0.2, random_state = 42)"
   ]
  },
  {
   "cell_type": "code",
   "execution_count": 20,
   "metadata": {},
   "outputs": [],
   "source": [
    "# Chia tách dữ liệu tránh tràn RAM\n",
    "BATCH_SIZE = 512\n",
    "EPOCHS = 10\n",
    "\n",
    "def _generate_data(data, batch_size):\n",
    "    current_index = 0\n",
    "    while True:\n",
    "        x, y = [], []\n",
    "        for i in range(batch_size):\n",
    "            y.append(_encoder_data(data[current_index]))\n",
    "            x.append(_encoder_data(_add_noise(data[current_index])))\n",
    "            current_index += 1\n",
    "            if current_index > len(data) - 1:\n",
    "                current_index = 0\n",
    "        yield (np.array(x), np.array(y))"
   ]
  },
  {
   "cell_type": "code",
   "execution_count": 21,
   "metadata": {},
   "outputs": [],
   "source": [
    "train_generator = _generate_data(train_data, batch_size = BATCH_SIZE)\n",
    "validation_generator = _generate_data(valid_data, batch_size = BATCH_SIZE)"
   ]
  },
  {
   "cell_type": "markdown",
   "metadata": {},
   "source": [
    "<strong>9. Huấn luyện mô hình</strong>"
   ]
  },
  {
   "cell_type": "code",
   "execution_count": 28,
   "metadata": {},
   "outputs": [
    {
     "name": "stdout",
     "output_type": "stream",
     "text": [
      "Epoch 1/10\n",
      "\u001b[1m19/19\u001b[0m \u001b[32m━━━━━━━━━━━━━━━━━━━━\u001b[0m\u001b[37m\u001b[0m \u001b[1m25s\u001b[0m 1s/step - accuracy: 0.9458 - loss: 0.2850 - val_accuracy: 0.9493 - val_loss: 0.2624\n",
      "Epoch 2/10\n",
      "\u001b[1m19/19\u001b[0m \u001b[32m━━━━━━━━━━━━━━━━━━━━\u001b[0m\u001b[37m\u001b[0m \u001b[1m26s\u001b[0m 1s/step - accuracy: 0.9507 - loss: 0.2638 - val_accuracy: 0.9486 - val_loss: 0.2562\n",
      "Epoch 3/10\n",
      "\u001b[1m19/19\u001b[0m \u001b[32m━━━━━━━━━━━━━━━━━━━━\u001b[0m\u001b[37m\u001b[0m \u001b[1m24s\u001b[0m 1s/step - accuracy: 0.9478 - loss: 0.2669 - val_accuracy: 0.9466 - val_loss: 0.2502\n",
      "Epoch 4/10\n",
      "\u001b[1m19/19\u001b[0m \u001b[32m━━━━━━━━━━━━━━━━━━━━\u001b[0m\u001b[37m\u001b[0m \u001b[1m25s\u001b[0m 1s/step - accuracy: 0.9502 - loss: 0.2440 - val_accuracy: 0.9517 - val_loss: 0.2367\n",
      "Epoch 5/10\n",
      "\u001b[1m19/19\u001b[0m \u001b[32m━━━━━━━━━━━━━━━━━━━━\u001b[0m\u001b[37m\u001b[0m \u001b[1m25s\u001b[0m 1s/step - accuracy: 0.9492 - loss: 0.2412 - val_accuracy: 0.9552 - val_loss: 0.2070\n",
      "Epoch 6/10\n",
      "\u001b[1m19/19\u001b[0m \u001b[32m━━━━━━━━━━━━━━━━━━━━\u001b[0m\u001b[37m\u001b[0m \u001b[1m26s\u001b[0m 1s/step - accuracy: 0.9533 - loss: 0.2159 - val_accuracy: 0.9516 - val_loss: 0.2113\n",
      "Epoch 7/10\n",
      "\u001b[1m19/19\u001b[0m \u001b[32m━━━━━━━━━━━━━━━━━━━━\u001b[0m\u001b[37m\u001b[0m \u001b[1m26s\u001b[0m 1s/step - accuracy: 0.9537 - loss: 0.2117 - val_accuracy: 0.9559 - val_loss: 0.1961\n",
      "Epoch 8/10\n",
      "\u001b[1m19/19\u001b[0m \u001b[32m━━━━━━━━━━━━━━━━━━━━\u001b[0m\u001b[37m\u001b[0m \u001b[1m26s\u001b[0m 1s/step - accuracy: 0.9557 - loss: 0.2022 - val_accuracy: 0.9491 - val_loss: 0.2124\n",
      "Epoch 9/10\n",
      "\u001b[1m19/19\u001b[0m \u001b[32m━━━━━━━━━━━━━━━━━━━━\u001b[0m\u001b[37m\u001b[0m \u001b[1m25s\u001b[0m 1s/step - accuracy: 0.9528 - loss: 0.2076 - val_accuracy: 0.9599 - val_loss: 0.1731\n",
      "Epoch 10/10\n",
      "\u001b[1m19/19\u001b[0m \u001b[32m━━━━━━━━━━━━━━━━━━━━\u001b[0m\u001b[37m\u001b[0m \u001b[1m25s\u001b[0m 1s/step - accuracy: 0.9556 - loss: 0.1919 - val_accuracy: 0.9593 - val_loss: 0.1690\n"
     ]
    }
   ],
   "source": [
    "# Huấn luyện mô hình với generator\n",
    "H = model.fit(train_generator, \n",
    "          validation_data=validation_generator, \n",
    "          steps_per_epoch=len(train_data) // BATCH_SIZE, \n",
    "          validation_steps=len(valid_data) // BATCH_SIZE, \n",
    "          epochs=EPOCHS)"
   ]
  },
  {
   "cell_type": "code",
   "execution_count": 29,
   "metadata": {},
   "outputs": [
    {
     "name": "stderr",
     "output_type": "stream",
     "text": [
      "WARNING:absl:You are saving your model as an HDF5 file via `model.save()` or `keras.saving.save_model(model)`. This file format is considered legacy. We recommend using instead the native Keras format, e.g. `model.save('my_model.keras')` or `keras.saving.save_model(model, 'my_model.keras')`. \n"
     ]
    }
   ],
   "source": [
    "# Lưu mô hình\n",
    "model.save('model_{0:.4f}.h5'.format(H.history['val_accuracy'][-1]))"
   ]
  },
  {
   "cell_type": "code",
   "execution_count": 30,
   "metadata": {},
   "outputs": [
    {
     "data": {
      "image/png": "[encoded data removed]",
      "text/plain": [
       "<Figure size 640x480 with 1 Axes>"
      ]
     },
     "metadata": {},
     "output_type": "display_data"
    }
   ],
   "source": [
    "import matplotlib.pyplot as plt \n",
    "\n",
    "# Vẽ biểu đồ\n",
    "plt.style.use('ggplot')\n",
    "plt.figure()\n",
    "plt.plot(np.arange(0, EPOCHS), H.history['loss'], label = 'Mất mát khi training')\n",
    "plt.plot(np.arange(0, EPOCHS), H.history['val_loss'], label = 'Mất mát khi validation')\n",
    "plt.plot(np.arange(0, EPOCHS), H.history['accuracy'], label = 'Độ chính xác khi training')\n",
    "plt.plot(np.arange(0, EPOCHS), H.history['val_accuracy'], label = 'Độ chính xác khi validation')\n",
    "plt.title('Mất mát và độ chính xác khi training')\n",
    "plt.xlabel('Epoch')\n",
    "plt.ylabel('Mất mát / Độ chính xác')\n",
    "plt.legend()\n",
    "plt.show()"
   ]
  },
  {
   "cell_type": "code",
   "execution_count": null,
   "metadata": {},
   "outputs": [],
   "source": []
  }
 ],
 "metadata": {
  "kernelspec": {
   "display_name": "base",
   "language": "python",
   "name": "python3"
  },
  "language_info": {
   "codemirror_mode": {
    "name": "ipython",
    "version": 3
   },
   "file_extension": ".py",
   "mimetype": "text/x-python",
   "name": "python",
   "nbconvert_exporter": "python",
   "pygments_lexer": "ipython3",
   "version": "3.12.4"
  }
 },
 "nbformat": 4,
 "nbformat_minor": 2
}
