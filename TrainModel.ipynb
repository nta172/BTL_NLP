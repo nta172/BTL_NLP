{
 "cells": [
  {
   "cell_type": "markdown",
   "metadata": {},
   "source": [
    "<strong>1. Đọc file ngữ liệu đã thu thập</strong>"
   ]
  },
  {
   "cell_type": "code",
   "execution_count": 1,
   "metadata": {},
   "outputs": [
    {
     "name": "stdout",
     "output_type": "stream",
     "text": [
      "Số câu dữ liệu:  82105\n"
     ]
    }
   ],
   "source": [
    "f = open('data/corpus.txt', 'r', encoding= 'utf-8')\n",
    "data = [line[:-1] for line in f.readlines()]\n",
    "f.close()\n",
    "\n",
    "print('Số câu dữ liệu: ', len(data))"
   ]
  },
  {
   "cell_type": "code",
   "execution_count": 2,
   "metadata": {},
   "outputs": [
    {
     "data": {
      "text/plain": [
       "['Trước đó, Hoàng Việt Travel và một số công ty khác trên thị trường cũng thực hiện tour khảo sát dịp hè ở Moskva, St.',\n",
       " 'Để bảo vệ gan, bác sĩ Hà khuyến cáo mỗi người cần duy trì thói quen ăn uống lành mạnh, tập thể dục đều đặn và khám sức khỏe định kỳ.',\n",
       " 'Nghi can sau đó lĩnh thêm hai án tù liên quan đánh bạc.',\n",
       " 'Chuyến đi một ngày \"chén sạch Hải Phòng\" với các món ăn tiêu biểu như bánh đa cua, bánh mì cay, sủi dìn, giá bể, cà phê cốt dừa, bánh đúc tàu, trà cúc, các loại ốc sẽ là gợi ý phù hợp cho những du khách có \"tâm hồn ăn uống\".',\n",
       " 'Michael O\\'Regan, giảng viên Đại học Glasgow Caledonian ở Scotland, cho rằng thuật ngữ trên không phản ánh được thực tế bất lực trong việc quản lý đám đông hiện nay. \"Du lịch đã quay trở lại nhanh hơn chúng tôi mong đợi\", Micheal nói.',\n",
       " 'Ba bàn và hai đường kiến tạo trong một trận đấu cũng là điều Ronaldo chưa từng làm được trong sự nghiệp, trong khi Messi đã trải qua bốn trận như vậy, năm 2010, 2011, 2018 và 2024.',\n",
       " 'Ngày 21/10, Ngân hàng Trung ương Trung Quốc (PBOC) thông báo giảm lãi suất cho vay cơ bản kỳ hạn 1 năm thêm 0,25%, về 3,1%.',\n",
       " 'Trong đó, điểm sạt nặng dài khoảng 300 m nằm giáp ranh giữa xã Phú Thuận và phường Thuận An.',\n",
       " 'DO NOT CROSS\" màu vàng có phản quang.',\n",
       " 'Bão Helena và Milton tràn qua với sức gió lên tới 225 km/h san phẳng nhiều dãy nhà, chỉ trừ một số còn nguyên vẹn do không có khe hở để tạo áp suất.']"
      ]
     },
     "execution_count": 2,
     "metadata": {},
     "output_type": "execute_result"
    }
   ],
   "source": [
    "data[:10]"
   ]
  },
  {
   "cell_type": "markdown",
   "metadata": {},
   "source": [
    "<strong>2. Tạo danh sách chứa đầy đủ các ký tự trong tiếng Việt và các danh sach chứa những ký tự thường lỗi hoặc từ viết</strong>"
   ]
  },
  {
   "cell_type": "code",
   "execution_count": 3,
   "metadata": {},
   "outputs": [],
   "source": [
    "vowel = list('aàáảãạăằắẳẵặâầấẩẫậeèéẻẽẹêềếểễệiìíỉĩịoòóỏõọôồốổỗộơờớởỡợuùúủũụưừứửữựyỳýỷỹỵAÀÁẢÃẠĂẰẮẲẴẶÂẦẤẨẪẬEÈÉẺẼẸÊỀẾỂỄỆIÌÍỈĨỊOÒÓỎÕỌÔỒỐỔỖỘƠỜỚỞỠỢUÙÚỦŨỤƯỪỨỬỮỰYỲÝỶỸỴ')\n",
    "full_letters = vowel + list('bcdfghjklmnpqrstvwxzBCDFGHJKLMNPQRSTVWXZđĐ')\n",
    "\n",
    "# Những lỗi thường gặp trong Tiếng Việt\n",
    "typo = {\n",
    "        \"à\": \"af\", \"á\": \"as\", \"ả\": \"ar\", \"ã\": \"ax\", \"ạ\": \"aj\", \n",
    "        \"â\": \"aa\", \"ấ\": \"aas\", \"ầ\": \"aaf\", \"ẩ\": \"aar\", \"ẫ\": \"aax\", \"ậ\": \"aaj\", \n",
    "        \"ă\": \"aw\", \"ắ\": \"aws\", \"ằ\": \"awf\", \"ẳ\": \"awr\", \"ẵ\": \"awx\", \"ặ\": \"awj\",\n",
    "        \"À\": \"Af\", \"Á\": \"As\", \"Ả\": \"Ar\", \"Ã\": \"Ax\", \"Ạ\": \"Aj\", \"Â\": \"Aa\", \n",
    "        \"Ấ\": \"Aas\", \"Ầ\": \"Aaf\", \"Ẩ\": \"Aar\", \"Ẫ\": \"Aax\", \"Ậ\": \"Aaj\", \n",
    "        \"Ă\": \"Aw\", \"Ắ\": \"Aws\", \"Ằ\": \"Awf\", \"Ẳ\": \"Awr\", \"Ẵ\": \"Awx\", \"Ặ\": \"Awj\",\n",
    "        \"đ\": \"dd\", \"Đ\": \"Dd\",\n",
    "        \"è\": \"ef\", \"é\": \"es\", \"ẻ\": \"er\", \"ẽ\": \"ex\", \"ẹ\": \"ej\", \n",
    "        \"ê\": \"ee\", \"ế\": \"ees\", \"ề\": \"eef\", \"ể\": \"eer\", \"ễ\": \"eex\", \"ệ\": \"eej\", \n",
    "        \"È\": \"Ef\", \"É\": \"Es\", \"Ẻ\": \"Er\", \"Ẽ\": \"Ex\", \"Ẹ\": \"Ej\", \n",
    "        \"Ê\": \"Ee\", \"Ế\": \"Ees\", \"Ề\": \"Eef\", \"Ể\": \"Eer\", \"Ễ\": \"Eex\", \"Ệ\": \"Eej\",\n",
    "        \"ì\": \"if\", \"í\": \"is\", \"ỉ\": \"ir\", \"ĩ\": \"ix\", \"ị\": \"ij\", \n",
    "        \"Ì\": \"If\", \"Í\": \"Is\", \"Ỉ\": \"Ir\", \"Ĩ\": \"Ix\", \"Ị\": \"Ij\",\n",
    "        \"ò\": \"of\", \"ó\": \"os\", \"ỏ\": \"or\", \"õ\": \"ox\", \"ọ\": \"oj\", \n",
    "        \"ô\": \"oo\", \"ố\": \"oos\", \"ồ\": \"oof\", \"ổ\": \"oor\", \"ỗ\": \"oox\", \"ộ\": \"ooj\", \n",
    "        \"ơ\": \"ow\", \"ớ\": \"ows\", \"ờ\": \"owf\", \"ở\": \"owr\", \"ỡ\": \"owx\", \"ợ\": \"owj\", \n",
    "        \"Ò\": \"Of\", \"Ó\": \"Os\", \"Ỏ\": \"Or\", \"Õ\": \"Ox\", \"Ọ\": \"Oj\", \n",
    "        \"Ô\": \"Oo\", \"Ố\": \"Oos\", \"Ồ\": \"Oof\", \"Ổ\": \"Oor\", \"Ỗ\": \"Oox\", \"Ộ\": \"Ooj\", \n",
    "        \"Ơ\": \"Ow\", \"Ớ\": \"Ows\", \"Ờ\": \"Owf\", \"Ở\": \"Owr\", \"Ỡ\": \"Owx\", \"Ợ\": \"Owj\",\n",
    "        \"ù\": \"uf\", \"ú\": \"us\", \"ủ\": \"ur\", \"ũ\": \"ux\", \"ụ\": \"uj\", \n",
    "        \"ư\": \"uw\", \"ứ\": \"uws\", \"ừ\": \"uwf\", \"ử\": \"uwr\", \"ữ\": \"uwx\", \"ự\": \"uwj\", \n",
    "        \"Ù\": \"Uf\", \"Ú\": \"Us\", \"Ủ\": \"Ur\", \"Ũ\": \"Ux\", \"Ụ\": \"Uj\", \n",
    "        \"Ư\": \"Uw\", \"Ứ\": \"Uws\", \"Ừ\": \"Uwf\", \"Ử\": \"Uwr\", \"Ữ\": \"Uwx\", \"Ự\": \"Uwj\",\n",
    "        \"ỳ\": \"yf\", \"ý\": \"ys\", \"ỷ\": \"yr\", \"ỹ\": \"yx\", \"ỵ\": \"yj\", \n",
    "        \"Ỳ\": \"Yf\", \"Ý\": \"Ys\", \"Ỷ\": \"Yr\", \"Ỹ\": \"Yx\", \"Ỵ\": \"Yj\"}\n",
    "\n",
    "region = {'ả':'ã','ã':'ả','ẻ':'ẽ','ẽ':'ẻ','ỉ':'ĩ','ĩ':'ỉ','ỏ':'õ','õ':'ỏ', 'ổ':'ỗ', 'ỗ':'ổ', 'ủ':'ũ','ũ':'ủ', 'ử':'ữ', 'ữ':'ử' ,'ỷ':'ỹ','ỹ':'ỷ', \n",
    "          'À':'Ã','Ã':'À','È':'Ẽ','Ẽ':'È','Ì':'Ĩ','Ĩ':'Ì','Ò':'Õ','Õ':'Ò', 'Ổ':'Ỗ', 'Ỗ':'Ổ', 'Ù':'Ũ','Ũ':'Ù', 'Ử':'Ữ', 'Ữ':'Ử' ,'Ỳ':'Ỹ','Ỹ':'Ỳ'}\n",
    "\n",
    "\n",
    "region2 = {'ch':'tr', 'tr':'ch','gi':'d','d':'gi','l':'n','n':'l','s':'x','x':'s',\n",
    "           'Ch':'Tr', 'Tr':'Ch','Gi':'D','D':'Gi','L':'N','N':'L','S':'X','X':'S'}\n",
    "\n",
    "acronym = {'anh':'a','biết':'bít','chồng':'ck','được':'đc','em':'e','gì':'j','giờ':'h',\n",
    "           'Anh':'A','Biết':'Bít','Chồng':'Ck','Được':'Đc','Em':'E','Gì':'J','Giờ':'H',\n",
    "           'không':'ko','muốn':'mún','ông':'ôg','phải':'fai','tôi':'t','vợ':'vk','yêu':'iu',\n",
    "           'Không':'Ko','Muốn':'Mún','Ông':'Ôg','Phải':'Fai','Tôi':'T','Vợ':'Vk','Yêu':'Iu',\n",
    "           } "
   ]
  },
  {
   "cell_type": "code",
   "execution_count": 4,
   "metadata": {},
   "outputs": [
    {
     "name": "stdout",
     "output_type": "stream",
     "text": [
      "Requirement already satisfied: unidecode in c:\\users\\admin\\anaconda3\\lib\\site-packages (1.2.0)\n"
     ]
    }
   ],
   "source": [
    "!pip install unidecode"
   ]
  },
  {
   "cell_type": "markdown",
   "metadata": {},
   "source": [
    "<strong>3. Viết hàm tạo ra dữ liệu nhiễu</strong>"
   ]
  },
  {
   "cell_type": "code",
   "execution_count": 5,
   "metadata": {},
   "outputs": [],
   "source": [
    "import re\n",
    "import numpy as np\n",
    "from unidecode import unidecode\n",
    "\n",
    "# Hàm thêm từ viết tắt\n",
    "def _teen_code(sentence):\n",
    "    random = np.random.uniform(0,1,1)[0]\n",
    "    new_sentence = str(sentence)\n",
    "\n",
    "    if random > 0.5:\n",
    "        for word in acronym.keys():\n",
    "            if re.search(word, new_sentence):\n",
    "                random2 = np.random.uniform(0,1,1)[0]\n",
    "                if random2 < 0.5:\n",
    "                    new_sentence = re.sub(word, acronym[word], new_sentence)\n",
    "        return new_sentence\n",
    "    else:\n",
    "        return sentence\n",
    "# Hàm thêm các lỗi\n",
    "def _add_noise(sentence):\n",
    "    sentence = _teen_code(sentence)\n",
    "    noisy_sentence = ''\n",
    "\n",
    "    i = 0\n",
    "    while i < len(sentence):\n",
    "        if sentence[i] not in full_letters:\n",
    "            noisy_sentence += sentence[i]\n",
    "        else:\n",
    "            random = np.random.uniform(0,1,1)[0]\n",
    "            if random <= 0.94:\n",
    "                noisy_sentence += sentence[i]\n",
    "            elif random <= 0.985:\n",
    "                if sentence[i] in typo.keys():\n",
    "                    if sentence[i] in region.keys():\n",
    "                        random2 = np.random.uniform(0,1,1)[0]\n",
    "                        if random2 <= 0.4:\n",
    "                            noisy_sentence += typo[sentence[i]]\n",
    "                        elif random2 < 0.8:\n",
    "                            noisy_sentence += region[sentence[i]]\n",
    "                        elif random < 0.95:\n",
    "                            noisy_sentence += unidecode(sentence[i])\n",
    "                        else:\n",
    "                            noisy_sentence += sentence[i]\n",
    "                    else:\n",
    "                        random3 = np.random.uniform(0,1,1)[0]\n",
    "                        if random3 <= 0.6:\n",
    "                            noisy_sentence += typo[sentence[i]]\n",
    "                        elif random3 < 0.9:\n",
    "                            noisy_sentence += unidecode(sentence[i])\n",
    "                        else:\n",
    "                            noisy_sentence += sentence[i]\n",
    "                elif i == 0 or sentence[i-1] not in full_letters:\n",
    "                    random4 = np.random.uniform(0,1,1)[0]\n",
    "                    if random4 <= 0.9:\n",
    "                        if i < len(sentence) - 1 and sentence[i] in region2.keys() and sentence[i+1] in vowel:\n",
    "                            noisy_sentence += region2[sentence[i]]\n",
    "                        elif i < len(sentence) - 2 and sentence[i:i+2] in region2.keys() and sentence[i+2] in vowel:\n",
    "                            noisy_sentence += region2[sentence[i:i+2]]\n",
    "                            i += 1\n",
    "                        else:\n",
    "                            noisy_sentence += sentence[i]\n",
    "                    else:\n",
    "                        noisy_sentence += sentence[i]\n",
    "                else:\n",
    "                    noisy_sentence += sentence[i]\n",
    "            else:\n",
    "                new_random = np.random.uniform(0,1,1)[0]\n",
    "                if new_random <= 0.33 and i != len(sentence) - 1:\n",
    "                    noisy_sentence += sentence[i+1]\n",
    "                    noisy_sentence += sentence[i]\n",
    "                    i += 1\n",
    "                else:\n",
    "                    noisy_sentence += sentence[i]\n",
    "        i += 1\n",
    "    return noisy_sentence\n"
   ]
  },
  {
   "cell_type": "code",
   "execution_count": 23,
   "metadata": {},
   "outputs": [
    {
     "data": {
      "text/plain": [
       "'Xử ný ngôn ngữ tự nhiên'"
      ]
     },
     "execution_count": 23,
     "metadata": {},
     "output_type": "execute_result"
    }
   ],
   "source": [
    "_add_noise('Xử lý ngôn ngữ tự nhiên')"
   ]
  },
  {
   "cell_type": "code",
   "execution_count": 24,
   "metadata": {},
   "outputs": [
    {
     "name": "stdout",
     "output_type": "stream",
     "text": [
      "198\n",
      "['\\x00', ' ', '0', '1', '2', '3', '4', '5', '6', '7', '8', '9', 'a', 'à', 'á', 'ả', 'ã', 'ạ', 'ă', 'ằ', 'ắ', 'ẳ', 'ẵ', 'ặ', 'â', 'ầ', 'ấ', 'ẩ', 'ẫ', 'ậ', 'e', 'è', 'é', 'ẻ', 'ẽ', 'ẹ', 'ê', 'ề', 'ế', 'ể', 'ễ', 'ệ', 'i', 'ì', 'í', 'ỉ', 'ĩ', 'ị', 'o', 'ò', 'ó', 'ỏ', 'õ', 'ọ', 'ô', 'ồ', 'ố', 'ổ', 'ỗ', 'ộ', 'ơ', 'ờ', 'ớ', 'ở', 'ỡ', 'ợ', 'u', 'ù', 'ú', 'ủ', 'ũ', 'ụ', 'ư', 'ừ', 'ứ', 'ử', 'ữ', 'ự', 'y', 'ỳ', 'ý', 'ỷ', 'ỹ', 'ỵ', 'A', 'À', 'Á', 'Ả', 'Ã', 'Ạ', 'Ă', 'Ằ', 'Ắ', 'Ẳ', 'Ẵ', 'Ặ', 'Â', 'Ầ', 'Ấ', 'Ẩ', 'Ẫ', 'Ậ', 'E', 'È', 'É', 'Ẻ', 'Ẽ', 'Ẹ', 'Ê', 'Ề', 'Ế', 'Ể', 'Ễ', 'Ệ', 'I', 'Ì', 'Í', 'Ỉ', 'Ĩ', 'Ị', 'O', 'Ò', 'Ó', 'Ỏ', 'Õ', 'Ọ', 'Ô', 'Ồ', 'Ố', 'Ổ', 'Ỗ', 'Ộ', 'Ơ', 'Ờ', 'Ớ', 'Ở', 'Ỡ', 'Ợ', 'U', 'Ù', 'Ú', 'Ủ', 'Ũ', 'Ụ', 'Ư', 'Ừ', 'Ứ', 'Ử', 'Ữ', 'Ự', 'Y', 'Ỳ', 'Ý', 'Ỷ', 'Ỹ', 'Ỵ', 'b', 'c', 'd', 'f', 'g', 'h', 'j', 'k', 'l', 'm', 'n', 'p', 'q', 'r', 's', 't', 'v', 'w', 'x', 'z', 'B', 'C', 'D', 'F', 'G', 'H', 'J', 'K', 'L', 'M', 'N', 'P', 'Q', 'R', 'S', 'T', 'V', 'W', 'X', 'Z', 'đ', 'Đ']\n"
     ]
    }
   ],
   "source": [
    "# Các ký tự có thể xuất hiện trong encoder\n",
    "alphabet = ['\\x00', ' '] + list('0123456789') + full_letters\n",
    "print(len(alphabet))\n",
    "print(alphabet)"
   ]
  },
  {
   "cell_type": "markdown",
   "metadata": {},
   "source": [
    "<strong>4. Tách câu thành các cụm tù dựa vào dấu phân cách hoặc ký tự đặc biệt</strong>"
   ]
  },
  {
   "cell_type": "code",
   "execution_count": 25,
   "metadata": {},
   "outputs": [
    {
     "name": "stdout",
     "output_type": "stream",
     "text": [
      "239983\n"
     ]
    },
    {
     "data": {
      "text/plain": [
       "['làm du lịch',\n",
       " 'cũng cho hay trời',\n",
       " 'đang nắng đẹp',\n",
       " 'Giờ tôi chín chắn',\n",
       " 'biết trân trọng sức khỏe hơn',\n",
       " 'không uống bia rượu',\n",
       " 'hạn chế nhậu nhẹt',\n",
       " '000 baht',\n",
       " '30 triệu đồng',\n",
       " 'ông ChattanKunjara Na Ayudhya cho biết']"
      ]
     },
     "execution_count": 25,
     "metadata": {},
     "output_type": "execute_result"
    }
   ],
   "source": [
    "# Tách câu thành các cụm từ dựa vào các ký tự không phải số và chữ cái\n",
    "phrases = []\n",
    "\n",
    "for text in data:\n",
    "    #Thay thế hoặc xóa bỏ các ký tự thừa\n",
    "    for c in set(text):\n",
    "        if re.match(r'\\w', c) and c not in alphabet:\n",
    "            uc = unidecode(c)\n",
    "            if re.match(r'\\w', uc) and uc not in alphabet:\n",
    "                text = re.sub(c, '', text)\n",
    "            else:\n",
    "                text = re.sub(c, uc, text)\n",
    "    phrases += re.findall(r'\\w[\\w\\s]+', text)\n",
    "\n",
    "phrases = [p.strip() for p in phrases if len(p.split()) > 1]\n",
    "\n",
    "print(len(phrases))\n",
    "phrases[-10:]"
   ]
  },
  {
   "cell_type": "code",
   "execution_count": 26,
   "metadata": {},
   "outputs": [
    {
     "name": "stdout",
     "output_type": "stream",
     "text": [
      "Requirement already satisfied: nltk in c:\\users\\admin\\anaconda3\\lib\\site-packages (3.9.1)\n",
      "Requirement already satisfied: click in c:\\users\\admin\\anaconda3\\lib\\site-packages (from nltk) (8.1.7)\n",
      "Requirement already satisfied: joblib in c:\\users\\admin\\anaconda3\\lib\\site-packages (from nltk) (1.4.2)\n",
      "Requirement already satisfied: regex>=2021.8.3 in c:\\users\\admin\\anaconda3\\lib\\site-packages (from nltk) (2023.10.3)\n",
      "Requirement already satisfied: tqdm in c:\\users\\admin\\anaconda3\\lib\\site-packages (from nltk) (4.66.4)\n",
      "Requirement already satisfied: colorama in c:\\users\\admin\\appdata\\roaming\\python\\python312\\site-packages (from click->nltk) (0.4.6)\n"
     ]
    }
   ],
   "source": [
    "!pip install --upgrade nltk"
   ]
  },
  {
   "cell_type": "markdown",
   "metadata": {},
   "source": [
    "<strong>5. Tách các cụm từ thành danh sách 5-grams với độ dài tối đa là 39 ký tự</strong>"
   ]
  },
  {
   "cell_type": "code",
   "execution_count": 27,
   "metadata": {},
   "outputs": [
    {
     "name": "stdout",
     "output_type": "stream",
     "text": [
      "1318927\n"
     ]
    },
    {
     "data": {
      "text/plain": [
       "['Trước đó',\n",
       " 'Hoàng Việt Travel và một',\n",
       " 'Việt Travel và một số',\n",
       " 'Travel và một số công',\n",
       " 'và một số công ty',\n",
       " 'một số công ty khác',\n",
       " 'số công ty khác trên',\n",
       " 'công ty khác trên thị',\n",
       " 'ty khác trên thị trường',\n",
       " 'khác trên thị trường cũng']"
      ]
     },
     "execution_count": 27,
     "metadata": {},
     "output_type": "execute_result"
    }
   ],
   "source": [
    "from nltk import ngrams\n",
    "# Chia các cụm từ thành các cụm tối đa là 5 g-rams\n",
    "# Độ dài tối đa của 1 từ trong tiếng việt là  7 (nghiêng)\n",
    "# Vì vậy độ dài tối đa của cụm 5 g-rams và các khoảng cách ở giữa là 7*5 + 4 = 39\n",
    "NGRAM = 5 \n",
    "MAXLEN = 39 \n",
    "\n",
    "list_ngrams = []\n",
    "for p in phrases:\n",
    "    list_p = p.split()\n",
    "    if(len(list_p) >= NGRAM):\n",
    "        for ngr in ngrams(p.split(), NGRAM):\n",
    "            if len(' '.join(ngr)) <= MAXLEN:\n",
    "                list_ngrams.append(' '.join(ngr))\n",
    "    elif len(' '.join(list_p)) <= MAXLEN:\n",
    "        list_ngrams.append(' '.join(list_p))\n",
    "\n",
    "list_ngrams = list((list_ngrams))\n",
    "print(len(list_ngrams))\n",
    "list_ngrams[:10]"
   ]
  },
  {
   "cell_type": "markdown",
   "metadata": {},
   "source": [
    "<strong>6. Viết hàm encoder chuyển chuỗi thành mảng vector one-hot có kích thước 39x198 hàm decoder giải mã ra chuỗi có độ dài 39 ký tự</strong>"
   ]
  },
  {
   "cell_type": "code",
   "execution_count": null,
   "metadata": {},
   "outputs": [],
   "source": [
    "# Đệm '\\x00' vào cuối của các cụm ngrams có độ dài < độ dài tối đa là 39\n",
    "def _encoder_data(text):\n",
    "    x = np.zeros((MAXLEN, len(alphabet)))\n",
    "    for i, c in enumerate(text[:MAXLEN]):\n",
    "        x[i, alphabet.index(c)] = 1\n",
    "    if i < MAXLEN - 1 :\n",
    "        for j in range(i + 1, MAXLEN):\n",
    "            x[j, 0] = 1\n",
    "    return x\n",
    "def _decoder_data(x):\n",
    "    x = x.argmax(axis = -1)\n",
    "    return ''.join(alphabet[i] for i in x)"
   ]
  },
  {
   "cell_type": "code",
   "execution_count": 29,
   "metadata": {},
   "outputs": [
    {
     "name": "stdout",
     "output_type": "stream",
     "text": [
      "(39, 198)\n",
      "Xử lý ngôn ngữ tự nhiên\u0000\u0000\u0000\u0000\u0000\u0000\u0000\u0000\u0000\u0000\u0000\u0000\u0000\u0000\u0000\u0000\n"
     ]
    }
   ],
   "source": [
    "print(_encoder_data('Xử lý ngôn ngữ tự nhiên').shape)\n",
    "print(_decoder_data(_encoder_data('Xử lý ngôn ngữ tự nhiên')))"
   ]
  },
  {
   "cell_type": "code",
   "execution_count": 30,
   "metadata": {},
   "outputs": [
    {
     "name": "stdout",
     "output_type": "stream",
     "text": [
      "Requirement already satisfied: keras in c:\\users\\admin\\anaconda3\\lib\\site-packages (3.6.0)\n",
      "Requirement already satisfied: tensorflow in c:\\users\\admin\\anaconda3\\lib\\site-packages (2.17.0)\n",
      "Requirement already satisfied: absl-py in c:\\users\\admin\\anaconda3\\lib\\site-packages (from keras) (2.1.0)\n",
      "Requirement already satisfied: numpy in c:\\users\\admin\\anaconda3\\lib\\site-packages (from keras) (1.26.4)\n",
      "Requirement already satisfied: rich in c:\\users\\admin\\anaconda3\\lib\\site-packages (from keras) (13.3.5)\n",
      "Requirement already satisfied: namex in c:\\users\\admin\\anaconda3\\lib\\site-packages (from keras) (0.0.8)\n",
      "Requirement already satisfied: h5py in c:\\users\\admin\\anaconda3\\lib\\site-packages (from keras) (3.11.0)\n",
      "Requirement already satisfied: optree in c:\\users\\admin\\anaconda3\\lib\\site-packages (from keras) (0.13.0)\n",
      "Requirement already satisfied: ml-dtypes in c:\\users\\admin\\anaconda3\\lib\\site-packages (from keras) (0.4.1)\n",
      "Requirement already satisfied: packaging in c:\\users\\admin\\appdata\\roaming\\python\\python312\\site-packages (from keras) (24.1)\n",
      "Requirement already satisfied: tensorflow-intel==2.17.0 in c:\\users\\admin\\anaconda3\\lib\\site-packages (from tensorflow) (2.17.0)\n",
      "Requirement already satisfied: astunparse>=1.6.0 in c:\\users\\admin\\anaconda3\\lib\\site-packages (from tensorflow-intel==2.17.0->tensorflow) (1.6.3)\n",
      "Requirement already satisfied: flatbuffers>=24.3.25 in c:\\users\\admin\\anaconda3\\lib\\site-packages (from tensorflow-intel==2.17.0->tensorflow) (24.3.25)\n",
      "Requirement already satisfied: gast!=0.5.0,!=0.5.1,!=0.5.2,>=0.2.1 in c:\\users\\admin\\anaconda3\\lib\\site-packages (from tensorflow-intel==2.17.0->tensorflow) (0.6.0)\n",
      "Requirement already satisfied: google-pasta>=0.1.1 in c:\\users\\admin\\anaconda3\\lib\\site-packages (from tensorflow-intel==2.17.0->tensorflow) (0.2.0)\n",
      "Requirement already satisfied: libclang>=13.0.0 in c:\\users\\admin\\anaconda3\\lib\\site-packages (from tensorflow-intel==2.17.0->tensorflow) (18.1.1)\n",
      "Requirement already satisfied: opt-einsum>=2.3.2 in c:\\users\\admin\\anaconda3\\lib\\site-packages (from tensorflow-intel==2.17.0->tensorflow) (3.4.0)\n",
      "Requirement already satisfied: protobuf!=4.21.0,!=4.21.1,!=4.21.2,!=4.21.3,!=4.21.4,!=4.21.5,<5.0.0dev,>=3.20.3 in c:\\users\\admin\\anaconda3\\lib\\site-packages (from tensorflow-intel==2.17.0->tensorflow) (3.20.3)\n",
      "Requirement already satisfied: requests<3,>=2.21.0 in c:\\users\\admin\\anaconda3\\lib\\site-packages (from tensorflow-intel==2.17.0->tensorflow) (2.32.2)\n",
      "Requirement already satisfied: setuptools in c:\\users\\admin\\anaconda3\\lib\\site-packages (from tensorflow-intel==2.17.0->tensorflow) (69.5.1)\n",
      "Requirement already satisfied: six>=1.12.0 in c:\\users\\admin\\appdata\\roaming\\python\\python312\\site-packages (from tensorflow-intel==2.17.0->tensorflow) (1.16.0)\n",
      "Requirement already satisfied: termcolor>=1.1.0 in c:\\users\\admin\\anaconda3\\lib\\site-packages (from tensorflow-intel==2.17.0->tensorflow) (2.5.0)\n",
      "Requirement already satisfied: typing-extensions>=3.6.6 in c:\\users\\admin\\anaconda3\\lib\\site-packages (from tensorflow-intel==2.17.0->tensorflow) (4.11.0)\n",
      "Requirement already satisfied: wrapt>=1.11.0 in c:\\users\\admin\\anaconda3\\lib\\site-packages (from tensorflow-intel==2.17.0->tensorflow) (1.14.1)\n",
      "Requirement already satisfied: grpcio<2.0,>=1.24.3 in c:\\users\\admin\\anaconda3\\lib\\site-packages (from tensorflow-intel==2.17.0->tensorflow) (1.67.0)\n",
      "Requirement already satisfied: tensorboard<2.18,>=2.17 in c:\\users\\admin\\anaconda3\\lib\\site-packages (from tensorflow-intel==2.17.0->tensorflow) (2.17.1)\n",
      "Requirement already satisfied: markdown-it-py<3.0.0,>=2.2.0 in c:\\users\\admin\\anaconda3\\lib\\site-packages (from rich->keras) (2.2.0)\n",
      "Requirement already satisfied: pygments<3.0.0,>=2.13.0 in c:\\users\\admin\\appdata\\roaming\\python\\python312\\site-packages (from rich->keras) (2.18.0)\n",
      "Requirement already satisfied: wheel<1.0,>=0.23.0 in c:\\users\\admin\\anaconda3\\lib\\site-packages (from astunparse>=1.6.0->tensorflow-intel==2.17.0->tensorflow) (0.43.0)\n",
      "Requirement already satisfied: mdurl~=0.1 in c:\\users\\admin\\anaconda3\\lib\\site-packages (from markdown-it-py<3.0.0,>=2.2.0->rich->keras) (0.1.0)\n",
      "Requirement already satisfied: charset-normalizer<4,>=2 in c:\\users\\admin\\anaconda3\\lib\\site-packages (from requests<3,>=2.21.0->tensorflow-intel==2.17.0->tensorflow) (2.0.4)\n",
      "Requirement already satisfied: idna<4,>=2.5 in c:\\users\\admin\\anaconda3\\lib\\site-packages (from requests<3,>=2.21.0->tensorflow-intel==2.17.0->tensorflow) (3.7)\n",
      "Requirement already satisfied: urllib3<3,>=1.21.1 in c:\\users\\admin\\anaconda3\\lib\\site-packages (from requests<3,>=2.21.0->tensorflow-intel==2.17.0->tensorflow) (2.2.2)\n",
      "Requirement already satisfied: certifi>=2017.4.17 in c:\\users\\admin\\anaconda3\\lib\\site-packages (from requests<3,>=2.21.0->tensorflow-intel==2.17.0->tensorflow) (2024.8.30)\n",
      "Requirement already satisfied: markdown>=2.6.8 in c:\\users\\admin\\anaconda3\\lib\\site-packages (from tensorboard<2.18,>=2.17->tensorflow-intel==2.17.0->tensorflow) (3.4.1)\n",
      "Requirement already satisfied: tensorboard-data-server<0.8.0,>=0.7.0 in c:\\users\\admin\\anaconda3\\lib\\site-packages (from tensorboard<2.18,>=2.17->tensorflow-intel==2.17.0->tensorflow) (0.7.2)\n",
      "Requirement already satisfied: werkzeug>=1.0.1 in c:\\users\\admin\\anaconda3\\lib\\site-packages (from tensorboard<2.18,>=2.17->tensorflow-intel==2.17.0->tensorflow) (3.0.3)\n",
      "Requirement already satisfied: MarkupSafe>=2.1.1 in c:\\users\\admin\\anaconda3\\lib\\site-packages (from werkzeug>=1.0.1->tensorboard<2.18,>=2.17->tensorflow-intel==2.17.0->tensorflow) (2.1.3)\n"
     ]
    }
   ],
   "source": [
    "!pip install keras tensorflow"
   ]
  },
  {
   "cell_type": "markdown",
   "metadata": {},
   "source": [
    "<strong>7. Xây dựng mô hình</strong>"
   ]
  },
  {
   "cell_type": "code",
   "execution_count": 31,
   "metadata": {},
   "outputs": [],
   "source": [
    "# Xây dựng kiến trúc mạng neural nhân tạo seq2seq\n",
    "from keras.models import Sequential\n",
    "from keras.layers import TimeDistributed, Dense, LSTM, Bidirectional\n",
    "from tensorflow.keras.optimizers import Adam"
   ]
  },
  {
   "cell_type": "code",
   "execution_count": 34,
   "metadata": {},
   "outputs": [],
   "source": [
    "encoder = LSTM(256, input_shape = (MAXLEN, len(alphabet)), return_sequences = True)"
   ]
  },
  {
   "cell_type": "code",
   "execution_count": 35,
   "metadata": {},
   "outputs": [],
   "source": [
    "decoder = Bidirectional(LSTM(256, return_sequences = True, dropout = 0.2))"
   ]
  },
  {
   "cell_type": "code",
   "execution_count": 36,
   "metadata": {},
   "outputs": [
    {
     "data": {
      "text/html": [
       "<pre style=\"white-space:pre;overflow-x:auto;line-height:normal;font-family:Menlo,'DejaVu Sans Mono',consolas,'Courier New',monospace\"><span style=\"font-weight: bold\">Model: \"sequential\"</span>\n",
       "</pre>\n"
      ],
      "text/plain": [
       "\u001b[1mModel: \"sequential\"\u001b[0m\n"
      ]
     },
     "metadata": {},
     "output_type": "display_data"
    },
    {
     "data": {
      "text/html": [
       "<pre style=\"white-space:pre;overflow-x:auto;line-height:normal;font-family:Menlo,'DejaVu Sans Mono',consolas,'Courier New',monospace\">┏━━━━━━━━━━━━━━━━━━━━━━━━━━━━━━━━━┳━━━━━━━━━━━━━━━━━━━━━━━━┳━━━━━━━━━━━━━━━┓\n",
       "┃<span style=\"font-weight: bold\"> Layer (type)                    </span>┃<span style=\"font-weight: bold\"> Output Shape           </span>┃<span style=\"font-weight: bold\">       Param # </span>┃\n",
       "┡━━━━━━━━━━━━━━━━━━━━━━━━━━━━━━━━━╇━━━━━━━━━━━━━━━━━━━━━━━━╇━━━━━━━━━━━━━━━┩\n",
       "│ lstm_2 (<span style=\"color: #0087ff; text-decoration-color: #0087ff\">LSTM</span>)                   │ (<span style=\"color: #00d7ff; text-decoration-color: #00d7ff\">None</span>, <span style=\"color: #00af00; text-decoration-color: #00af00\">39</span>, <span style=\"color: #00af00; text-decoration-color: #00af00\">256</span>)        │       <span style=\"color: #00af00; text-decoration-color: #00af00\">465,920</span> │\n",
       "├─────────────────────────────────┼────────────────────────┼───────────────┤\n",
       "│ bidirectional_1 (<span style=\"color: #0087ff; text-decoration-color: #0087ff\">Bidirectional</span>) │ (<span style=\"color: #00d7ff; text-decoration-color: #00d7ff\">None</span>, <span style=\"color: #00af00; text-decoration-color: #00af00\">39</span>, <span style=\"color: #00af00; text-decoration-color: #00af00\">512</span>)        │     <span style=\"color: #00af00; text-decoration-color: #00af00\">1,050,624</span> │\n",
       "├─────────────────────────────────┼────────────────────────┼───────────────┤\n",
       "│ time_distributed                │ (<span style=\"color: #00d7ff; text-decoration-color: #00d7ff\">None</span>, <span style=\"color: #00af00; text-decoration-color: #00af00\">39</span>, <span style=\"color: #00af00; text-decoration-color: #00af00\">256</span>)        │       <span style=\"color: #00af00; text-decoration-color: #00af00\">131,328</span> │\n",
       "│ (<span style=\"color: #0087ff; text-decoration-color: #0087ff\">TimeDistributed</span>)               │                        │               │\n",
       "├─────────────────────────────────┼────────────────────────┼───────────────┤\n",
       "│ time_distributed_1              │ (<span style=\"color: #00d7ff; text-decoration-color: #00d7ff\">None</span>, <span style=\"color: #00af00; text-decoration-color: #00af00\">39</span>, <span style=\"color: #00af00; text-decoration-color: #00af00\">198</span>)        │        <span style=\"color: #00af00; text-decoration-color: #00af00\">50,886</span> │\n",
       "│ (<span style=\"color: #0087ff; text-decoration-color: #0087ff\">TimeDistributed</span>)               │                        │               │\n",
       "└─────────────────────────────────┴────────────────────────┴───────────────┘\n",
       "</pre>\n"
      ],
      "text/plain": [
       "┏━━━━━━━━━━━━━━━━━━━━━━━━━━━━━━━━━┳━━━━━━━━━━━━━━━━━━━━━━━━┳━━━━━━━━━━━━━━━┓\n",
       "┃\u001b[1m \u001b[0m\u001b[1mLayer (type)                   \u001b[0m\u001b[1m \u001b[0m┃\u001b[1m \u001b[0m\u001b[1mOutput Shape          \u001b[0m\u001b[1m \u001b[0m┃\u001b[1m \u001b[0m\u001b[1m      Param #\u001b[0m\u001b[1m \u001b[0m┃\n",
       "┡━━━━━━━━━━━━━━━━━━━━━━━━━━━━━━━━━╇━━━━━━━━━━━━━━━━━━━━━━━━╇━━━━━━━━━━━━━━━┩\n",
       "│ lstm_2 (\u001b[38;5;33mLSTM\u001b[0m)                   │ (\u001b[38;5;45mNone\u001b[0m, \u001b[38;5;34m39\u001b[0m, \u001b[38;5;34m256\u001b[0m)        │       \u001b[38;5;34m465,920\u001b[0m │\n",
       "├─────────────────────────────────┼────────────────────────┼───────────────┤\n",
       "│ bidirectional_1 (\u001b[38;5;33mBidirectional\u001b[0m) │ (\u001b[38;5;45mNone\u001b[0m, \u001b[38;5;34m39\u001b[0m, \u001b[38;5;34m512\u001b[0m)        │     \u001b[38;5;34m1,050,624\u001b[0m │\n",
       "├─────────────────────────────────┼────────────────────────┼───────────────┤\n",
       "│ time_distributed                │ (\u001b[38;5;45mNone\u001b[0m, \u001b[38;5;34m39\u001b[0m, \u001b[38;5;34m256\u001b[0m)        │       \u001b[38;5;34m131,328\u001b[0m │\n",
       "│ (\u001b[38;5;33mTimeDistributed\u001b[0m)               │                        │               │\n",
       "├─────────────────────────────────┼────────────────────────┼───────────────┤\n",
       "│ time_distributed_1              │ (\u001b[38;5;45mNone\u001b[0m, \u001b[38;5;34m39\u001b[0m, \u001b[38;5;34m198\u001b[0m)        │        \u001b[38;5;34m50,886\u001b[0m │\n",
       "│ (\u001b[38;5;33mTimeDistributed\u001b[0m)               │                        │               │\n",
       "└─────────────────────────────────┴────────────────────────┴───────────────┘\n"
      ]
     },
     "metadata": {},
     "output_type": "display_data"
    },
    {
     "data": {
      "text/html": [
       "<pre style=\"white-space:pre;overflow-x:auto;line-height:normal;font-family:Menlo,'DejaVu Sans Mono',consolas,'Courier New',monospace\"><span style=\"font-weight: bold\"> Total params: </span><span style=\"color: #00af00; text-decoration-color: #00af00\">1,698,758</span> (6.48 MB)\n",
       "</pre>\n"
      ],
      "text/plain": [
       "\u001b[1m Total params: \u001b[0m\u001b[38;5;34m1,698,758\u001b[0m (6.48 MB)\n"
      ]
     },
     "metadata": {},
     "output_type": "display_data"
    },
    {
     "data": {
      "text/html": [
       "<pre style=\"white-space:pre;overflow-x:auto;line-height:normal;font-family:Menlo,'DejaVu Sans Mono',consolas,'Courier New',monospace\"><span style=\"font-weight: bold\"> Trainable params: </span><span style=\"color: #00af00; text-decoration-color: #00af00\">1,698,758</span> (6.48 MB)\n",
       "</pre>\n"
      ],
      "text/plain": [
       "\u001b[1m Trainable params: \u001b[0m\u001b[38;5;34m1,698,758\u001b[0m (6.48 MB)\n"
      ]
     },
     "metadata": {},
     "output_type": "display_data"
    },
    {
     "data": {
      "text/html": [
       "<pre style=\"white-space:pre;overflow-x:auto;line-height:normal;font-family:Menlo,'DejaVu Sans Mono',consolas,'Courier New',monospace\"><span style=\"font-weight: bold\"> Non-trainable params: </span><span style=\"color: #00af00; text-decoration-color: #00af00\">0</span> (0.00 B)\n",
       "</pre>\n"
      ],
      "text/plain": [
       "\u001b[1m Non-trainable params: \u001b[0m\u001b[38;5;34m0\u001b[0m (0.00 B)\n"
      ]
     },
     "metadata": {},
     "output_type": "display_data"
    }
   ],
   "source": [
    "model = Sequential()\n",
    "\n",
    "# Thêm encoder và decoder vào mô hình\n",
    "model.add(encoder)\n",
    "model.add(decoder)\n",
    "\n",
    "# Lớp TimeDistributed với hàm kích hoạt 'relu'\n",
    "model.add(TimeDistributed(Dense(256, activation='relu')))\n",
    "\n",
    "# Lớp TimeDistributed với hàm kích hoạt 'softmax'\n",
    "model.add(TimeDistributed(Dense(len(alphabet), activation='softmax')))\n",
    "\n",
    "# Biên dịch mô hình\n",
    "model.compile(loss='categorical_crossentropy',\n",
    "              optimizer=Adam(learning_rate=0.001),\n",
    "              metrics=['accuracy'])\n",
    "\n",
    "# Hiển thị thông tin về mô hình\n",
    "model.summary()"
   ]
  },
  {
   "cell_type": "markdown",
   "metadata": {},
   "source": [
    "<strong>8. Tách dữ liệu thành tập training và validation</strong>"
   ]
  },
  {
   "cell_type": "code",
   "execution_count": 39,
   "metadata": {},
   "outputs": [],
   "source": [
    "#Tách dữ liệu thành 80% training và 20% validation\n",
    "from sklearn.model_selection import train_test_split\n",
    "train_data, valid_data = train_test_split(list_ngrams, test_size = 0.2, random_state = 42)"
   ]
  },
  {
   "cell_type": "code",
   "execution_count": 40,
   "metadata": {},
   "outputs": [],
   "source": [
    "# Chia tách dữ liệu tránh tràn RAM\n",
    "BATCH_SIZE = 512\n",
    "EPOCHS = 10\n",
    "\n",
    "def _generate_data(data, batch_size):\n",
    "    current_index = 0\n",
    "    while True:\n",
    "        x, y = [], []\n",
    "        for i in range(batch_size):\n",
    "            y.append(_encoder_data(data[current_index]))\n",
    "            x.append(_encoder_data(_add_noise(data[current_index])))\n",
    "            current_index += 1\n",
    "            if current_index > len(data) - 1:\n",
    "                current_index = 0\n",
    "        yield (np.array(x), np.array(y))"
   ]
  },
  {
   "cell_type": "code",
   "execution_count": 41,
   "metadata": {},
   "outputs": [],
   "source": [
    "train_generator = _generate_data(train_data, batch_size = BATCH_SIZE)\n",
    "validation_generator = _generate_data(valid_data, batch_size = BATCH_SIZE)"
   ]
  },
  {
   "cell_type": "markdown",
   "metadata": {},
   "source": [
    "<strong>9. Huấn luyện mô hình</strong>"
   ]
  },
  {
   "cell_type": "code",
   "execution_count": 42,
   "metadata": {},
   "outputs": [
    {
     "name": "stdout",
     "output_type": "stream",
     "text": [
      "Epoch 1/10\n",
      "\u001b[1m2060/2060\u001b[0m \u001b[32m━━━━━━━━━━━━━━━━━━━━\u001b[0m\u001b[37m\u001b[0m \u001b[1m2425s\u001b[0m 1s/step - accuracy: 0.8192 - loss: 0.8618 - val_accuracy: 0.9865 - val_loss: 0.0517\n",
      "Epoch 2/10\n",
      "\u001b[1m2060/2060\u001b[0m \u001b[32m━━━━━━━━━━━━━━━━━━━━\u001b[0m\u001b[37m\u001b[0m \u001b[1m2418s\u001b[0m 1s/step - accuracy: 0.9880 - loss: 0.0465 - val_accuracy: 0.9927 - val_loss: 0.0276\n",
      "Epoch 3/10\n",
      "\u001b[1m2060/2060\u001b[0m \u001b[32m━━━━━━━━━━━━━━━━━━━━\u001b[0m\u001b[37m\u001b[0m \u001b[1m2424s\u001b[0m 1s/step - accuracy: 0.9923 - loss: 0.0292 - val_accuracy: 0.9944 - val_loss: 0.0214\n",
      "Epoch 4/10\n",
      "\u001b[1m2060/2060\u001b[0m \u001b[32m━━━━━━━━━━━━━━━━━━━━\u001b[0m\u001b[37m\u001b[0m \u001b[1m2424s\u001b[0m 1s/step - accuracy: 0.9939 - loss: 0.0230 - val_accuracy: 0.9953 - val_loss: 0.0173\n",
      "Epoch 5/10\n",
      "\u001b[1m2060/2060\u001b[0m \u001b[32m━━━━━━━━━━━━━━━━━━━━\u001b[0m\u001b[37m\u001b[0m \u001b[1m2427s\u001b[0m 1s/step - accuracy: 0.9950 - loss: 0.0188 - val_accuracy: 0.9959 - val_loss: 0.0151\n",
      "Epoch 6/10\n",
      "\u001b[1m2060/2060\u001b[0m \u001b[32m━━━━━━━━━━━━━━━━━━━━\u001b[0m\u001b[37m\u001b[0m \u001b[1m2430s\u001b[0m 1s/step - accuracy: 0.9955 - loss: 0.0168 - val_accuracy: 0.9963 - val_loss: 0.0141\n",
      "Epoch 7/10\n",
      "\u001b[1m2060/2060\u001b[0m \u001b[32m━━━━━━━━━━━━━━━━━━━━\u001b[0m\u001b[37m\u001b[0m \u001b[1m2430s\u001b[0m 1s/step - accuracy: 0.9960 - loss: 0.0149 - val_accuracy: 0.9965 - val_loss: 0.0129\n",
      "Epoch 8/10\n",
      "\u001b[1m2060/2060\u001b[0m \u001b[32m━━━━━━━━━━━━━━━━━━━━\u001b[0m\u001b[37m\u001b[0m \u001b[1m2432s\u001b[0m 1s/step - accuracy: 0.9963 - loss: 0.0135 - val_accuracy: 0.9965 - val_loss: 0.0126\n",
      "Epoch 9/10\n",
      "\u001b[1m2060/2060\u001b[0m \u001b[32m━━━━━━━━━━━━━━━━━━━━\u001b[0m\u001b[37m\u001b[0m \u001b[1m2433s\u001b[0m 1s/step - accuracy: 0.9966 - loss: 0.0126 - val_accuracy: 0.9969 - val_loss: 0.0110\n",
      "Epoch 10/10\n",
      "\u001b[1m2060/2060\u001b[0m \u001b[32m━━━━━━━━━━━━━━━━━━━━\u001b[0m\u001b[37m\u001b[0m \u001b[1m2433s\u001b[0m 1s/step - accuracy: 0.9967 - loss: 0.0119 - val_accuracy: 0.9972 - val_loss: 0.0103\n"
     ]
    }
   ],
   "source": [
    "# Huấn luyện mô hình với generator\n",
    "H = model.fit(train_generator, \n",
    "          validation_data=validation_generator, \n",
    "          steps_per_epoch=len(train_data) // BATCH_SIZE, \n",
    "          validation_steps=len(valid_data) // BATCH_SIZE, \n",
    "          epochs=EPOCHS)"
   ]
  },
  {
   "cell_type": "code",
   "execution_count": 43,
   "metadata": {},
   "outputs": [
    {
     "name": "stderr",
     "output_type": "stream",
     "text": [
      "WARNING:absl:You are saving your model as an HDF5 file via `model.save()` or `keras.saving.save_model(model)`. This file format is considered legacy. We recommend using instead the native Keras format, e.g. `model.save('my_model.keras')` or `keras.saving.save_model(model, 'my_model.keras')`. \n"
     ]
    }
   ],
   "source": [
    "# Lưu mô hình\n",
    "model.save('model_{0:.4f}.h5'.format(H.history['val_accuracy'][-1]))"
   ]
  },
  {
   "cell_type": "code",
   "execution_count": 44,
   "metadata": {},
   "outputs": [
    {
     "data": {
      "image/png": "[encoded data removed]",
      "text/plain": [
       "<Figure size 640x480 with 1 Axes>"
      ]
     },
     "metadata": {},
     "output_type": "display_data"
    }
   ],
   "source": [
    "import matplotlib.pyplot as plt \n",
    "\n",
    "# Vẽ biểu đồ\n",
    "plt.style.use('ggplot')\n",
    "plt.figure()\n",
    "plt.plot(np.arange(0, EPOCHS), H.history['loss'], label = 'Mất mát khi training')\n",
    "plt.plot(np.arange(0, EPOCHS), H.history['val_loss'], label = 'Mất mát khi validation')\n",
    "plt.plot(np.arange(0, EPOCHS), H.history['accuracy'], label = 'Độ chính xác khi training')\n",
    "plt.plot(np.arange(0, EPOCHS), H.history['val_accuracy'], label = 'Độ chính xác khi validation')\n",
    "plt.title('Mất mát và độ chính xác khi training')\n",
    "plt.xlabel('Epoch')\n",
    "plt.ylabel('Mất mát / Độ chính xác')\n",
    "plt.legend()\n",
    "plt.show()"
   ]
  },
  {
   "cell_type": "code",
   "execution_count": null,
   "metadata": {},
   "outputs": [],
   "source": []
  }
 ],
 "metadata": {
  "kernelspec": {
   "display_name": "base",
   "language": "python",
   "name": "python3"
  },
  "language_info": {
   "codemirror_mode": {
    "name": "ipython",
    "version": 3
   },
   "file_extension": ".py",
   "mimetype": "text/x-python",
   "name": "python",
   "nbconvert_exporter": "python",
   "pygments_lexer": "ipython3",
   "version": "3.12.4"
  }
 },
 "nbformat": 4,
 "nbformat_minor": 2
}
